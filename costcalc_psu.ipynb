{
 "cells": [
  {
   "cell_type": "code",
   "execution_count": 1,
   "metadata": {},
   "outputs": [],
   "source": [
    "import math\n",
    "import requests\n",
    "import numpy as np\n",
    "\n",
    "pricelist_url = \"https://cloudpricingcalculator.appspot.com/static/data/pricelist.json\""
   ]
  },
  {
   "cell_type": "code",
   "execution_count": 2,
   "metadata": {},
   "outputs": [
    {
     "name": "stdout",
     "output_type": "stream",
     "text": [
      "Pricing as of 29-April-2021\n"
     ]
    }
   ],
   "source": [
    "r = requests.get(pricelist_url)\n",
    "pricelist = r.json()\n",
    "print(\"Pricing as of {}\".format(pricelist['updated']))"
   ]
  },
  {
   "cell_type": "code",
   "execution_count": 3,
   "metadata": {},
   "outputs": [],
   "source": [
    "class HostedCourse(dict):\n",
    "    def __init__(self, data, pricelist, **kw):\n",
    "        dict.__init__(self)\n",
    "        self.update(data)\n",
    "        self.pricelist = pricelist\n",
    "        self.update(kw['update'])\n",
    "\n",
    "    def monthly_cost_all_pd(self):\n",
    "        pd_total_size = self['num_users'] * self['pd_size_gb']\n",
    "        pd_rate_gb_month = self.pricelist['gcp_price_list'][self['pd_type']][self['node_region']]\n",
    "        return pd_rate_gb_month * pd_total_size\n",
    "\n",
    "    def monthly_cost_node(self):\n",
    "        node_rate = self.pricelist['gcp_price_list'][self['node_type']][self['node_region']]\n",
    "        return node_rate * self['sustained_use_factor'] * self['node_monthly_uptime_h']\n",
    "\n",
    "    def pods_per_node(self):\n",
    "        mem_per_node = int(self.pricelist['gcp_price_list'][self['node_type']]['memory'])\n",
    "        return math.floor((mem_per_node-1)/self['mem_per_pod_gb'])\n",
    "    \n",
    "    def derived_node_count(self):\n",
    "        return math.ceil(self['num_active_pods'] / self.pods_per_node())\n",
    "    \n",
    "    def monthly_cost_all_nodes(self):\n",
    "        return self.derived_node_count() * self.monthly_cost_node()\n",
    "    \n",
    "    def monthly_cost_total(self):\n",
    "        return self.monthly_cost_all_nodes() + self.monthly_cost_all_pd()\n",
    "    \n",
    "    def monthly_cost_per_student(self):\n",
    "        return self.monthly_cost_total() / self['num_users']"
   ]
  },
  {
   "cell_type": "code",
   "execution_count": 5,
   "metadata": {},
   "outputs": [],
   "source": [
    "# defaults \n",
    "dsep = {\n",
    "    ## GKE\n",
    "    'node_region': 'us',\n",
    "\n",
    "    # persistent disk\n",
    "    'pd_type': 'CP-COMPUTEENGINE-STORAGE-PD-SSD',\n",
    "\n",
    "    # nodes\n",
    "    # CP-COMPUTEENGINE-VMIMAGE-N1-HIGHMEM-4: 4 cores, 26GB\n",
    "    # CP-COMPUTEENGINE-VMIMAGE-N1-STANDARD-4: 4 cores, 15GB\n",
    "    'node_type': 'CP-COMPUTEENGINE-VMIMAGE-N1-HIGHMEM-4',\n",
    "    \n",
    "    'num_users': 1,\n",
    "    'num_active_pods': 1,\n",
    "\n",
    "    'pd_size_gb': 10,\n",
    "    'node_monthly_uptime_h': 30*24,\n",
    "    'mem_per_pod_gb': 2,\n",
    "    \n",
    "    # https://cloud.google.com/compute/#pricing\n",
    "    # \"Sustained Use Discounts\n",
    "    # Earn up to a 30% net discount for instances that run for an entire month.\n",
    "    # Compute Engine automatically discounts instances running more than 25% of\n",
    "    # the days in a month1.\"\n",
    "    # This is theoretically represented by data['gcp_price_list']['sustained_use_tiers']\n",
    "    # which suggests discounts of up to 60% which is at odds with the statement above.\n",
    "    # We'll assume a sustained discount of not the max of 30%, but of 15%.\n",
    "    # FIXME: rejigger as a function of node_monthly_uptime_h\n",
    "    'sustained_use_factor': 0.85, \n",
    "}"
   ]
  },
  {
   "cell_type": "code",
   "execution_count": 6,
   "metadata": {},
   "outputs": [],
   "source": [
    "courses = {\n",
    "    'math110_wc_merged_2g': HostedCourse(dsep, pricelist, update={\n",
    "        'num_users': 200,\n",
    "        'num_active_pods': 20, \n",
    "    }),\n",
    "\n",
    "    'math110_wc_onesection_2g': HostedCourse(dsep, pricelist, update={\n",
    "        'num_users': 100,\n",
    "        'num_active_pods': 10, \n",
    "    }),\n",
    "\n",
    "    'math110_wc_merged_1g': HostedCourse(dsep, pricelist, update={\n",
    "        'num_users': 200,\n",
    "        'num_active_pods': 20,\n",
    "        'mem_per_pod_gb': 1,        \n",
    "    }),\n",
    "\n",
    "    'math110_wc_onesection_1g': HostedCourse(dsep, pricelist, update={\n",
    "        'num_users': 100,\n",
    "        'num_active_pods': 10, \n",
    "        'mem_per_pod_gb': 1,        \n",
    "    }),\n",
    "}"
   ]
  },
  {
   "cell_type": "code",
   "execution_count": 7,
   "metadata": {},
   "outputs": [],
   "source": [
    "def show_node_info(nt):\n",
    "    '''Display a node type's hourly rate and it's memory and core counts.'''\n",
    "    print(\"rate: {:.3f}, mem_gb: {}, cores: {}\".format(\n",
    "        pricelist['gcp_price_list'][nt]['us'],\n",
    "        pricelist['gcp_price_list'][nt]['memory'],\n",
    "        pricelist['gcp_price_list'][nt]['cores']\n",
    "    ))"
   ]
  },
  {
   "cell_type": "code",
   "execution_count": 8,
   "metadata": {
    "scrolled": true
   },
   "outputs": [
    {
     "name": "stdout",
     "output_type": "stream",
     "text": [
      "rate: 0.237, mem_gb: 26, cores: 4\n",
      "rate: 0.190, mem_gb: 15, cores: 4\n"
     ]
    }
   ],
   "source": [
    "show_node_info('CP-COMPUTEENGINE-VMIMAGE-N1-HIGHMEM-4')\n",
    "show_node_info('CP-COMPUTEENGINE-VMIMAGE-N1-STANDARD-4')"
   ]
  },
  {
   "cell_type": "code",
   "execution_count": 9,
   "metadata": {},
   "outputs": [
    {
     "name": "stdout",
     "output_type": "stream",
     "text": [
      "math110_wc_merged_1g\ttotal: $  484.92\tper user: $  2.42\n",
      "math110_wc_merged_2g\ttotal: $  629.84\tper user: $  3.15\n",
      "math110_wc_onesection_1g\ttotal: $  314.92\tper user: $  3.15\n",
      "math110_wc_onesection_2g\ttotal: $  314.92\tper user: $  3.15\n"
     ]
    }
   ],
   "source": [
    "for k in sorted(courses.keys()):\n",
    "    course = courses[k]\n",
    "    print(\"{:>12}\\ttotal: ${:8.2f}\\tper user: ${:6.2f}\".format(\n",
    "        k,\n",
    "        course.monthly_cost_total(),\n",
    "        course.monthly_cost_per_student()\n",
    "    ))"
   ]
  },
  {
   "cell_type": "code",
   "execution_count": null,
   "metadata": {},
   "outputs": [],
   "source": []
  }
 ],
 "metadata": {
  "hide_input": false,
  "kernelspec": {
   "display_name": "Python 3",
   "language": "python",
   "name": "python3"
  },
  "language_info": {
   "codemirror_mode": {
    "name": "ipython",
    "version": 3
   },
   "file_extension": ".py",
   "mimetype": "text/x-python",
   "name": "python",
   "nbconvert_exporter": "python",
   "pygments_lexer": "ipython3",
   "version": "3.8.3"
  }
 },
 "nbformat": 4,
 "nbformat_minor": 2
}
