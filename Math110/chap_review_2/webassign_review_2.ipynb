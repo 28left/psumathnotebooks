{
 "cells": [
  {
   "cell_type": "code",
   "execution_count": 3,
   "id": "e1401e40",
   "metadata": {},
   "outputs": [],
   "source": [
    "import cyllene\n",
    "# import cyllene.widgets.vue_problem_basic as v\n",
    "# import cyllene.widgets.vue_problem_parameter as vp"
   ]
  },
  {
   "cell_type": "markdown",
   "id": "e20fd9f6",
   "metadata": {},
   "source": [
    "# Review Problems from Exam 2"
   ]
  },
  {
   "cell_type": "markdown",
   "id": "8055b1a0",
   "metadata": {},
   "source": [
    "## Problem 1"
   ]
  },
  {
   "cell_type": "code",
   "execution_count": 11,
   "id": "ba8b3a18",
   "metadata": {},
   "outputs": [],
   "source": [
    "%%makeproblem -wa 3418886\n",
    "Question\n",
    "<eqn>\n",
    "A = randnum(3,5,1);\n",
    "B = A*randnum(2,4,1) + randnum(-1,1,2);\n",
    "if A == 3:\n",
    "    n = pickone(4,5,7,8)\n",
    "elif A == 4:\n",
    "    n = pickone(3,5,7,9)\n",
    "else:\n",
    "    n = pickone(3,4,6,7);\n",
    "nn = n - 1;\n",
    "m = randnum(3,6,1,n); \n",
    "mm = m - 1; \n",
    "mmm = m+1;\n",
    "ERRS = pick(7,-10,-9,-8,-7,-6,-5,-4,-3,-2,-1,1,2,3,4,5,6,7,8,9,10);\n",
    "EQNS = [A, n, m*A, 2*m, A*n, n*B, A*(n - m), n*B + ERRS[0], A*(n - m) + ERRS[1], n*B + ERRS[2], A*(n - m) + ERRS[3], n*B + ERRS[4], A*(n - m) + ERRS[6]];\n",
    "''</eqn>\n",
    "\n",
    "<watex>\n",
    "Given the function \\[f(x) = \\dfrac{x^{$n}}{(${A}x + $B)^{$m}},\\] find its derivative \\[f'(x)\\].\n",
    "</watex>\n",
    "\n",
    "<_>\n",
    "\n",
    "Answer\n",
    "<watex>\\[\\dfrac{x^{$nn}($EQNS[6]x + $EQNS[5])}{($EQNS[0]x + $B)^{$mmm}}\\]</watex>\n",
    "<watex>\\[\\dfrac{$EQNS[5]x^{$nn}}{($EQNS[0]x + $B)^{$mmm}}\\]</watex>\n",
    "<watex>\\[\\dfrac{x^{$nn}($EQNS[8]x + $EQNS[7])}{($EQNS[0]x + $B)^{$mmm}}\\]</watex>\n",
    "<watex>\\[\\dfrac{$EQNS[10]x + $EQNS[9]}{($EQNS[0]x + $B)^{$mmm}}\\]</watex>\n",
    "<watex>\\[\\dfrac{x^{$nn}($EQNS[12]x + $EQNS[11])}{($EQNS[0]x + $B)^{$mmm}}\\]</watex>\n",
    "\n",
    "\n",
    "Solution\n",
    "<watex>\n",
    "Start by using the quotient rule to compute the derivative of \\[f(x) = \\dfrac{x^{$n}}{($EQNS[0]x + $B)^{$m}}\\]:\n",
    "<br><br>\n",
    "<center>\\[ \n",
    "f'(x)   = \\dfrac{$EQNS[1]x^{$nn}($EQNS[0]x + $B)^{$m} - x^{$n}\\cdot$m($EQNS[0]x + $B)^{$mm}\\cdot$EQNS[0]}{[($EQNS[0]x + $B)^{$m}]^2} \n",
    " = \\dfrac{$EQNS[1]x^{$nn}($EQNS[0]x + $B)^{$m} - $EQNS[2]x^{$n}($EQNS[0]x + $B)^{$mm}}{($EQNS[0]x+$B)^{$EQNS[3]}} \n",
    "\\]</center> \n",
    "<br>\n",
    "Note the factor of \\[$A\\], which is the derivative of \\[${A}x + $B\\], that shows up in the second term of the numerator as a result of applying the chain rule.  Now simplify the numerator by pulling out the common factors of \\[x^{$nn}\\] and \\[(${A}x + $B)^{$mm}\\]:\n",
    "<br><br>\n",
    "<center>\\[\n",
    "f'(x)  = \\dfrac{x^{$nn}($EQNS[0]x + $B)^{$mm}[$EQNS[1]($EQNS[0]x + $B) - $EQNS[2]x]}{($EQNS[0]x + $B)^{$EQNS[3]}}\n",
    "= \\dfrac{x^{$nn}($EQNS[0]x + $B)^{$mm}[$EQNS[4]x + $EQNS[5] - $EQNS[2]x]}{($EQNS[0]x + $B)^{$EQNS[3]}}\n",
    "= \\dfrac{x^{$nn}($EQNS[6]x + $EQNS[5])}{($EQNS[0]x + $B)^{$mmm}}\n",
    "\\]</center> \n",
    "</watex>\n",
    "\n",
    "Info\n",
    "'tags': [\"derivative\", \"chain rule\"],\n",
    "'title': \"Find derivative\",\n",
    "'id': \"3418886\""
   ]
  },
  {
   "cell_type": "code",
   "execution_count": 12,
   "id": "a57d981e-1458-417a-b369-524e9a58eabf",
   "metadata": {},
   "outputs": [
    {
     "data": {
      "application/vnd.jupyter.widget-view+json": {
       "model_id": "1b31ece22ee14780801e75a75e17a0fd",
       "version_major": 2,
       "version_minor": 0
      },
      "text/plain": [
       "VBox(children=(Output(), Button(description='New Version', style=ButtonStyle())))"
      ]
     },
     "metadata": {},
     "output_type": "display_data"
    },
    {
     "data": {
      "application/vnd.jupyter.widget-view+json": {
       "model_id": "c4a41e5825ff48df9b0c72e393cfdc72",
       "version_major": 2,
       "version_minor": 0
      },
      "text/plain": [
       "Output()"
      ]
     },
     "metadata": {},
     "output_type": "display_data"
    },
    {
     "data": {
      "application/vnd.jupyter.widget-view+json": {
       "model_id": "f32ff1016278475db958c975c51945ca",
       "version_major": 2,
       "version_minor": 0
      },
      "text/plain": [
       "VBox(children=(HBox(children=(Button(button_style='primary', description='( 1 )', layout=Layout(flex='1 1 auto…"
      ]
     },
     "metadata": {},
     "output_type": "display_data"
    }
   ],
   "source": [
    "%showproblem 3418886"
   ]
  },
  {
   "cell_type": "markdown",
   "id": "d4e4111a",
   "metadata": {},
   "source": [
    "---"
   ]
  },
  {
   "cell_type": "markdown",
   "id": "341f45e8",
   "metadata": {},
   "source": [
    "## Problem 2"
   ]
  },
  {
   "cell_type": "code",
   "execution_count": 9,
   "id": "4f61d740",
   "metadata": {},
   "outputs": [],
   "source": [
    "%%makeproblem -wa 5200357\n",
    "Question\n",
    "<eqn>\n",
    "A = randnum(2,9,1);\n",
    "B = randnum(2,5,1,A);\n",
    "SLOPE = fraction(A*B - 1,B);\n",
    "EQNS = [A*B, A*B + 1, A*B + 2, A*B - 1, A*B + 1 - B, A, B];\n",
    "''</eqn>\n",
    "\n",
    "<watex>\n",
    "Find an equation for the tangent line to the curve \\[y = ${A}x + \\dfrac{$B}{x}\\] at the point \\[($B,$EQNS[1])\\].\n",
    "</watex>\n",
    "\n",
    "<_>\n",
    "\n",
    "Answer\n",
    "<watex>\\[y = \\dfrac{$EQNS[3]}{$B}x + 2\\]</watex>\n",
    "<watex>\\[y = \\dfrac{$EQNS[1]}{$B}x\\]</watex>\n",
    "<watex>\\[y = \\dfrac{1}{$B}x + $EQNS[0]\\]</watex>\n",
    "<watex>\\[y = -\\dfrac{1}{$B}x + $EQNS[2]\\]</watex>\n",
    "<watex>\\[y = x + $EQNS[4]\\]</watex>\n",
    "\n",
    "Solution\n",
    "<watex>\n",
    "If we rewrite \\[y = $EQNS[5]x + \\dfrac{$B}{x}\\] as \\[ y = $EQNS[5]x + $EQNS[6]x^{-1}\\], then we can compute its derivative as follows.\n",
    "<br><br>\n",
    "<center>\\[\n",
    "y' = $A + $B(-1)x^{-2} = $A - \\dfrac{$B}{x^2}\n",
    "\\]</center>\n",
    "<br>\n",
    "Now plug in \\[x = $B\\].\n",
    "<br><br>\n",
    "<center>\\[\n",
    "y'($B) = $A - \\dfrac{$B}{$B^2} = $A - \\dfrac{1}{$B} = \\dfrac{$A*$B - 1}{$B} = \\dfrac{$EQNS[3]}{$B}\n",
    "\\]</center>\n",
    "<br>\n",
    "We now know that the slope of the tangent line is \\[\\dfrac{$EQNS[3]}{$B}\\].  Using the point-slope equation of a line (i.e., \\[y - b = m(x - a)\\] where \\[m\\] is the slope of the line that goes through the point \\[(a,b)\\]), the equation of the tangent line is given by the following.\n",
    "<br><br>\n",
    "<center>\\[\n",
    "y - $EQNS[1] = \\dfrac{$EQNS[3]}{$B}(x - $B) = \\dfrac{$EQNS[3]}{$B}x - $EQNS[3]\n",
    "\\]</center>\n",
    "<br>\n",
    "Adding \\[$EQNS[1]\\] to both sides yields\n",
    "<br><br>\n",
    "<center>\\[y  = \\dfrac{$EQNS[3]}{$B}x + 2\\]</center>\n",
    "</watex>\n",
    "\n",
    "Info\n",
    "'tags': [\"derivative\", \"tangent line\"],\n",
    "'title': \"Find equation of tangent line\",\n",
    "'id': \"5200357\""
   ]
  },
  {
   "cell_type": "code",
   "execution_count": 10,
   "id": "6cd07fa4",
   "metadata": {},
   "outputs": [
    {
     "data": {
      "application/vnd.jupyter.widget-view+json": {
       "model_id": "07249d32e33743db9ab30ae9df5d7bbb",
       "version_major": 2,
       "version_minor": 0
      },
      "text/plain": [
       "VBox(children=(Output(), Button(description='New Version', style=ButtonStyle())))"
      ]
     },
     "metadata": {},
     "output_type": "display_data"
    },
    {
     "data": {
      "application/vnd.jupyter.widget-view+json": {
       "model_id": "7a6911b57f254915a751fbdace706fb1",
       "version_major": 2,
       "version_minor": 0
      },
      "text/plain": [
       "Output()"
      ]
     },
     "metadata": {},
     "output_type": "display_data"
    },
    {
     "data": {
      "application/vnd.jupyter.widget-view+json": {
       "model_id": "6eae627d604d4d3390291533ab2f629c",
       "version_major": 2,
       "version_minor": 0
      },
      "text/plain": [
       "VBox(children=(HBox(children=(Button(button_style='primary', description='( 1 )', layout=Layout(flex='1 1 auto…"
      ]
     },
     "metadata": {},
     "output_type": "display_data"
    }
   ],
   "source": [
    "%showproblem 5200357"
   ]
  },
  {
   "cell_type": "code",
   "execution_count": null,
   "id": "b6a1a368",
   "metadata": {},
   "outputs": [],
   "source": []
  }
 ],
 "metadata": {
  "jupytext": {
   "formats": "ipynb,md:myst"
  },
  "kernelspec": {
   "display_name": "Python 3 (ipykernel)",
   "language": "python",
   "name": "python3"
  },
  "language_info": {
   "codemirror_mode": {
    "name": "ipython",
    "version": 3
   },
   "file_extension": ".py",
   "mimetype": "text/x-python",
   "name": "python",
   "nbconvert_exporter": "python",
   "pygments_lexer": "ipython3",
   "version": "3.10.6"
  }
 },
 "nbformat": 4,
 "nbformat_minor": 5
}
