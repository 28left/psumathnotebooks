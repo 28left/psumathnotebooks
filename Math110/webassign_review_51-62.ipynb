{
 "cells": [
  {
   "cell_type": "code",
   "execution_count": 1,
   "id": "5a63b62a-3899-46e9-948a-f4ffab5e20f2",
   "metadata": {},
   "outputs": [],
   "source": [
    "import cyllene\n",
    "from cyllene.MathProblems.problem_handler import ProblemHandler\n",
    "from cyllene.widgets.widget_viewer import WidgetViewer"
   ]
  },
  {
   "cell_type": "markdown",
   "id": "bd51cca4-5ea0-47d0-be91-a72431a1b5b3",
   "metadata": {
    "tags": []
   },
   "source": [
    "# Review Problems from Exam 3"
   ]
  },
  {
   "cell_type": "markdown",
   "id": "b599cce3-05c7-43fc-99f8-34ed02c1b972",
   "metadata": {},
   "source": [
    "## Problem 1"
   ]
  },
  {
   "cell_type": "code",
   "execution_count": 2,
   "id": "fc5f42dd-549b-4b73-8fae-7e194a3ad831",
   "metadata": {},
   "outputs": [],
   "source": [
    "%%makeproblem -wa 3556706_0\n",
    "Question\n",
    "<eqn>\n",
    "D = pickone(0.1,0.2,0.25,0.5);\n",
    "E = int(1/D);\n",
    "fracD = line_fraction(Rational(100*D,100));\n",
    "A = 10*randnum(2,9,1);\n",
    "B = A*randnum(2,5,1,E);\n",
    "C = randnum(2,9,1,B/A - 1);\n",
    "BA = int(B/A);\n",
    "BA1 = B/A - 1;\n",
    "BA1C = line_fraction(Rational(BA1,C));\n",
    "F = line_fraction(Rational(C,BA1));\n",
    "EQNS = [C, D];\n",
    "''</eqn>\n",
    "\n",
    "<watex>\n",
    "If \\[\\dfrac{$B}{1 + ${C}e^{-${D}t}} = $A\\], solve for \\[t\\]. &emsp;&emsp;&emsp;&emsp;&emsp; \n",
    "</watex>\n",
    "\n",
    "<_>\n",
    "\n",
    "Answer\n",
    "<watex>\\[t = $E\\ln($F)\\]</watex>\n",
    "<watex>\\[t = $E\\ln($BA1C)\\]</watex>\n",
    "<watex>\\[t = $BA\\ln($BA1C)\\]</watex>\n",
    "<watex>\\[t = $BA\\ln($E)\\]</watex>\n",
    "<watex>\\[t = $BA\\ln($D)\\]</watex>\n",
    "\n",
    "\n",
    "Solution\n",
    "<watex>\n",
    "We can solve for \\[t\\] in the following manner.  First, multiply both sides of the given equation by \\[1 + $EQNS[0]e^{-$EQNS[1]t}\\]\n",
    "<br><br>\n",
    "<center>\\[$B = $A(1 + $EQNS[0]e^{-$EQNS[1]t})\\]</center>\n",
    "<br>\n",
    "Next, divide both sides by \\[$A\\].\n",
    "<br><br>\n",
    "<center>\\[$BA = 1 + $EQNS[0]e^{-$EQNS[1]t}\\]</center>\n",
    "<br>\n",
    "Next, subtract \\[1\\] from both sides.\n",
    "<br><br>\n",
    "<center>\\[$BA1 = $EQNS[0]e^{-$EQNS[1]t}\\]</center>\n",
    "<br>\n",
    "Next, divide both sides by \\[$C\\].\n",
    "<br><br>\n",
    "<center>\\[$BA1C = e^{-$EQNS[1]t}\\]</center>\n",
    "<br>\n",
    "Next, take the natural logarithm of both sides.\n",
    "<br><br>\n",
    "<center>\\[\\ln($BA1C) = -$EQNS[1]t\\]</center>\n",
    "<br>\n",
    "And lastly, divide both sides by \\[-$D\\].\n",
    "<br><br>\n",
    "<center>\\[ \n",
    "t \n",
    "= -\\dfrac{\\ln($BA1C)}{$D} \n",
    "= -\\dfrac{\\ln($BA1C)}{$fracD} \n",
    "= -$E\\ln($BA1C) \n",
    "= $E\\ln($F)  \\quad \\text{ since} -\\ln(A) = \\ln(1/A) \\text{ for all } A > 0\n",
    "\\]</center>\n",
    "<br>\n",
    "</watex>\n",
    "\n",
    "Info\n",
    "'tags': [\"exponential function\", \"exponential equations\", \"logarithm\"],\n",
    "'title': \"Solve for t\",\n",
    "'id': \"3556706_0\""
   ]
  },
  {
   "cell_type": "code",
   "execution_count": 3,
   "id": "e3b2df19-3059-48c1-a5fa-024c6ee057df",
   "metadata": {},
   "outputs": [],
   "source": [
    "P1_0 = cyllene.ProbStack.stack[\"3556706_0\"]"
   ]
  },
  {
   "cell_type": "code",
   "execution_count": 4,
   "id": "4ae63cbe-3934-42c0-b52b-b865e30960ab",
   "metadata": {},
   "outputs": [],
   "source": [
    "%%makeproblem -wa 3556706_1\n",
    "Question\n",
    "<eqn>\n",
    "A = pickone(2,3,5);\n",
    "n = pickone(2,3,4);\n",
    "AA = A**n;\n",
    "D = n + randnum(2,4,1);\n",
    "C = D - n;\n",
    "B = D*C;\n",
    "EQNS = [-D-2, D+2, n];\n",
    "''</eqn>\n",
    "\n",
    "<watex>\n",
    "If \\[$A^{t^2-$B} = (1/$AA)^t\\], solve for \\[t\\]. &emsp;&emsp;&emsp;&emsp;&emsp; \n",
    "</watex>\n",
    "\n",
    "<_>\n",
    "\n",
    "Answer\n",
    "<watex>\\[t = -$D\\] and \\[t = $C\\]</watex>\n",
    "<watex>\\[t = $D\\] and \\[t = $C\\]</watex>\n",
    "<watex>\\[t = $EQNS[0]\\] and \\[t = -$C\\]</watex>\n",
    "<watex>\\[t = $EQNS[1]\\] and \\[t = -$C\\]</watex>\n",
    "<watex>\\[t = 1\\] and \\[t = -$C\\]</watex>\n",
    "\n",
    "\n",
    "Solution\n",
    "<watex>\n",
    "In order to solve for \\[t\\], first write both sides using the same base.  Specifically, notice that the right-hand side can rewritten in the following form:\n",
    "<br><br>\n",
    "<center>\\[\n",
    "\\left(\\dfrac{1}{$AA}\\right)^t =  \\left(\\dfrac{1}{$A^{$n}}\\right)^t = ($A^{-$n})^t = $A^{-$EQNS[2]t}\n",
    "\\]</center>\n",
    "<br>\n",
    "Therefore, the original equation can be rewritten as\n",
    "<br><br>\n",
    "<center>\\[$A^{t^2-$B} = $A^{-$EQNS[2]t}\\]</center>\n",
    "<br>\n",
    "Now equate the exponents on both sides.\n",
    "<br><br>\n",
    "<center>\\[t^2 - $B = -$EQNS[2]t\\]</center>\n",
    "<br>\n",
    "Add \\[$EQNS[2]t\\] to both sides. \n",
    "<br><br>\n",
    "<center>\\[t^2 + $EQNS[2]t - $B = 0\\]</center>\n",
    "<br>\n",
    "Factor the left-hand side.\n",
    "<br><br>\n",
    "<center>\\[(t + $D)(t - $C) = 0\\]</center>\n",
    "<br>\n",
    "Therefore \\[t = -$D\\] and \\[t = $C\\] are solutions to the original equation.\n",
    "</watex>\n",
    "\n",
    "Info\n",
    "'tags': [\"exponential equations\"],\n",
    "'title': \"Solve for t\",\n",
    "'id': \"3556706_1\""
   ]
  },
  {
   "cell_type": "code",
   "execution_count": 5,
   "id": "e40a48e1-871f-48d0-b044-4911f42286b3",
   "metadata": {},
   "outputs": [],
   "source": [
    "P1_1 = cyllene.ProbStack.stack[\"3556706_1\"]"
   ]
  },
  {
   "cell_type": "code",
   "execution_count": 6,
   "id": "fbe6d158-8995-4476-a3b0-3be4665ae5b6",
   "metadata": {},
   "outputs": [],
   "source": [
    "%%makeproblem -wa 3556706_2\n",
    "Question\n",
    "<eqn>\n",
    "A = randnum(2,5,1);\n",
    "exp = pick(2,0,1,2,3);\n",
    "if A == 3: \n",
    "    exp = pick(2,0,1,2);\n",
    "if A == 4: \n",
    "    exp = pick(2,0,1,2);\n",
    "if A == 5: \n",
    "    exp = pick(2,0,1,2); \n",
    "B = A**exp[0];\n",
    "C = A**exp[1];\n",
    "BC = B + C;\n",
    "D = A**(exp[0]+exp[1]);\n",
    "err = pick(3,0,1,2,3,4);\n",
    "if exp[0] == 0: \n",
    "    err = pick(3,1,2,3,4); \n",
    "if exp[0] == 1: \n",
    "    err = pick(3,0,2,3,4); \n",
    "if exp[0] == 2: \n",
    "    err = pick(3,0,1,3,4); \n",
    "if exp[0] == 3: \n",
    "    err = pick(3,0,1,2,4); \n",
    "if exp[0] == 4: \n",
    "    err = pick(3,0,1,2,3); \n",
    "EQNS = [BC];\n",
    "''</eqn>\n",
    "\n",
    "<watex>\n",
    "Find all values of \\[x\\] such that \\[$A^{2x} - $BC*$A^x + $D = 0\\]. &emsp;&emsp;&emsp;&emsp;&emsp; \n",
    "</watex>\n",
    "\n",
    "<_>\n",
    "\n",
    "Answer\n",
    "<watex>\\[x = $exp[0]\\] and \\[x = $exp[1]\\]</watex>\n",
    "<watex>\\[x = $err[0]\\] and \\[x = $err[1]\\]</watex>\n",
    "<watex>\\[x = $err[0]\\] and \\[x = $err[2]\\]</watex>\n",
    "<watex>\\[x = $err[1]\\] and \\[x = $err[2]\\]</watex>\n",
    "<watex>\\[x = $B\\] and \\[x = $C\\]</watex>\n",
    "\n",
    "\n",
    "Solution\n",
    "<watex>\n",
    "In order to solve for \\[x\\], first rewrite the equation in the following form:\n",
    "<br><br>\n",
    "<center>\\[($A^{x})^{2} - $BC*$A^x + $D = 0\\]</center>\n",
    "<br>\n",
    "Next, replace \\[$A^x\\] with \\[u\\].\n",
    "<br><br>\n",
    "<center>\\[u^2 - $EQNS[0]u + $D = 0\\]</center>\n",
    "<br>\n",
    "Factor the left-hand side and solve for \\[u\\].\n",
    "<br><br>\n",
    "<center>\\[(u - $B)(u - $C) = 0\\]</center>\n",
    "<br>\n",
    "when \\[u = $B\\] and when \\[u = $C\\].  Now replace \\[u\\] with \\[$A^x\\] and solve for \\[x\\] in both equations.\n",
    "<br><br>\n",
    "<center>\\[\n",
    "$A^x = $B = $A^{$exp[0]} \\quad \\rightarrow \\quad x = $exp[0] \\qquad \\text{and}  \\qquad\n",
    "$A^x = $C = $A^{$exp[1]} \\quad \\rightarrow \\quad x = $exp[1] \n",
    "\\]</center>\n",
    "</watex>\n",
    "\n",
    "Info\n",
    "'tags': [\"exponential equations\"],\n",
    "'title': \"Solve for x\",\n",
    "'id': \"3556706_2\""
   ]
  },
  {
   "cell_type": "code",
   "execution_count": 7,
   "id": "66d3fe90-0306-4f5e-905c-ddde5be1fdae",
   "metadata": {},
   "outputs": [],
   "source": [
    "P1_2 = cyllene.ProbStack.stack[\"3556706_2\"]"
   ]
  },
  {
   "cell_type": "code",
   "execution_count": 8,
   "id": "fea99f62-1f25-4b9b-8a1e-95525dc866aa",
   "metadata": {},
   "outputs": [],
   "source": [
    "PH_1 = ProblemHandler([P1_0, P1_1, P1_2])"
   ]
  },
  {
   "cell_type": "code",
   "execution_count": 9,
   "id": "8805ad7a-109f-4e02-ab57-b2d21509b138",
   "metadata": {},
   "outputs": [],
   "source": [
    "pv_1 = WidgetViewer(PH_1)"
   ]
  },
  {
   "cell_type": "code",
   "execution_count": 10,
   "id": "04770af3-fdf4-4914-9d46-f715c76a84fc",
   "metadata": {},
   "outputs": [
    {
     "data": {
      "application/vnd.jupyter.widget-view+json": {
       "model_id": "0eaec39c3a004ad9950882e643a6a585",
       "version_major": 2,
       "version_minor": 0
      },
      "text/plain": [
       "VBox(children=(Output(), Button(description='New Version', style=ButtonStyle()), Output(), Output(), Output(),…"
      ]
     },
     "metadata": {},
     "output_type": "display_data"
    }
   ],
   "source": [
    "pv_1.show()"
   ]
  },
  {
   "cell_type": "markdown",
   "id": "d5761e54-c804-48ef-915f-152179498772",
   "metadata": {},
   "source": [
    "---"
   ]
  },
  {
   "cell_type": "markdown",
   "id": "ef7bd43d-e795-4d44-933f-e7ee37b243b2",
   "metadata": {},
   "source": [
    "## Problem 2"
   ]
  },
  {
   "cell_type": "code",
   "execution_count": 36,
   "id": "fd4fac80-95eb-42ef-a07c-cb7c307579cc",
   "metadata": {},
   "outputs": [],
   "source": [
    "%%makeproblem -wa 3436899_0\n",
    "Question\n",
    "<eqn>\n",
    "r = randnum(2,9,1);\n",
    "P = 1000*randnum(2,9,1,r);\n",
    "PP = commas(P);\n",
    "t = randnum(2,9,1,r);\n",
    "EQNS = [PP, r*t/100, 1 + r/100, r*t, r*t/10, r/100];\n",
    "''</eqn>\n",
    "\n",
    "<watex>\n",
    "If \\$$PP is invested at \\[$r%\\] compounded continuously, what will be the accumulated amount after \\[$t\\] years?\n",
    "</watex>\n",
    "\n",
    "<_>\n",
    "\n",
    "Answer\n",
    "<watex>\\$\\[$EQNS[0]e^{$EQNS[1]}\\]</watex>\n",
    "<watex>\\$\\[$PP($EQNS[2])^{$t}\\]</watex>\n",
    "<watex>\\$\\[$EQNS[0]e^{$EQNS[3]}\\]</watex>\n",
    "<watex>\\$\\[$EQNS[0]e^{$t}\\]</watex>\n",
    "<watex>\\$\\[$EQNS[0]e^{$EQNS[4]}\\]</watex>\n",
    "\n",
    "\n",
    "Solution\n",
    "<watex>\n",
    "Since interest is compounded continuously, use the Continuous Compound Interest Formula to compute the accumulated amount:\n",
    "<br><br>\n",
    "<center>\\[A = Pe^{rt}\\]</center>\n",
    "<br>\n",
    "where\n",
    "<br><br>\n",
    "- \\[A\\] is the accumulated amount at the end of \\[t\\] years <br>\n",
    "- \\[P\\] is the principal investment (\\[P = \\$$PP\\]) <br>\n",
    "- \\[r\\] is the annual interest rate (\\[r = $EQNS[5]\\]) <br>\n",
    "- \\[t\\] is the term (in years) of the investment (\\[t = $t\\]) <br>\n",
    "</watex>\n",
    "\n",
    "Info\n",
    "'tags': [\"exponential function\", \"future value\"],\n",
    "'title': \"Find the accumulated capital\",\n",
    "'id': \"3436899_0\""
   ]
  },
  {
   "cell_type": "code",
   "execution_count": 37,
   "id": "77ad0de8-29a4-4d7e-aee5-623ae1b2dd76",
   "metadata": {},
   "outputs": [],
   "source": [
    "P2_0 = cyllene.ProbStack.stack[\"3436899_0\"]"
   ]
  },
  {
   "cell_type": "code",
   "execution_count": 47,
   "id": "d996279a-f445-422e-95d1-fd5af91136e8",
   "metadata": {},
   "outputs": [],
   "source": [
    "%%makeproblem -wa 3436899_1\n",
    "Question\n",
    "<eqn>\n",
    "INDEX = randnum(1,3,1);\n",
    "period = ['annually','semiannually', 'quarterly', 'monthly', 'daily'];\n",
    "m = [1,2,4,12,365];\n",
    "r = m[INDEX]*randnum(2,5,1);\n",
    "P = 1000*randnum(2,9,1,r);\n",
    "PP = commas(P);\n",
    "t = randnum(2,9,1,r);\n",
    "EQNS = [PP, 1 + r/100/m[INDEX], m[INDEX]*t, 1 + r/100, r*t, r*t/100, period[INDEX], r/100, m[INDEX]];\n",
    "''</eqn>\n",
    "\n",
    "<watex>\n",
    "If \\$$PP is invested at \\[$r\\%\\] compounded $EQNS[6], what will be the accumulated amount after \\[$t\\] years?\n",
    "</watex>\n",
    "\n",
    "<_>\n",
    "\n",
    "Answer\n",
    "<watex>\\$\\[$PP($EQNS[1])^{$EQNS[2]}\\]</watex>\n",
    "<watex>\\$\\[$PP($EQNS[3])^{$EQNS[2]}\\]</watex>\n",
    "<watex>\\$\\[$PP($EQNS[3])^{$EQNS[4]}\\]</watex>\n",
    "<watex>\\$\\[$PP($EQNS[1])^{$EQNS[4]}\\]</watex>\n",
    "<watex>\\$\\[$EQNS[0]e^{$EQNS[5]}\\]</watex>\n",
    "\n",
    "\n",
    "Solution\n",
    "<watex>\n",
    "Since interest is compounded $EQNS[6], use the Compound Interest Formula to compute the accumulated amount:\n",
    "<br><br>\n",
    "<center>\\[A = P\\left(1 + \\dfrac{r}{m}\\right)^{mt}\\]</center>\n",
    "<br>\n",
    "where\n",
    "<br><br>\n",
    "- \\[A\\] is the accumulated amount at the end of \\[t\\] years  <br>\n",
    "- \\[P\\] is the principal investment (\\[P = \\$$PP\\]) <br>\n",
    "- \\[r\\] is the nominal interest rate (\\[r = $EQNS[7]\\]) <br>\n",
    "- \\[m\\] is the number of conversion periods per year (\\[m = $EQNS[8]\\]) <br>\n",
    "- \\[t\\] is the term (in years) of the investment (\\[t = $t\\]) <br>\n",
    "</watex>\n",
    "\n",
    "Info\n",
    "'tags': [\"exponential function\", \"future value\"],\n",
    "'title': \"Find the accumulated capital\",\n",
    "'id': \"3436899_1\""
   ]
  },
  {
   "cell_type": "code",
   "execution_count": 48,
   "id": "35c5cb2f-8ec8-471a-95b9-1901812870ad",
   "metadata": {},
   "outputs": [],
   "source": [
    "P2_1 = cyllene.ProbStack.stack[\"3436899_1\"]"
   ]
  },
  {
   "cell_type": "code",
   "execution_count": 51,
   "id": "d8571038-59e6-419d-9c4d-9e3008f0e95d",
   "metadata": {},
   "outputs": [
    {
     "data": {
      "application/vnd.jupyter.widget-view+json": {
       "model_id": "dfe921c8d7b04a0fb680bfe7e3aa5549",
       "version_major": 2,
       "version_minor": 0
      },
      "text/plain": [
       "VBox(children=(Output(), Button(description='New Version', style=ButtonStyle()), Output(), Output(), Output(),…"
      ]
     },
     "metadata": {},
     "output_type": "display_data"
    }
   ],
   "source": [
    "PH_2 = ProblemHandler([P2_0, P2_1])\n",
    "pv2 = WidgetViewer(PH_2)\n",
    "pv2.show()"
   ]
  },
  {
   "cell_type": "markdown",
   "id": "a475cd06-ba1b-4208-8683-0f25b067eedd",
   "metadata": {},
   "source": [
    "---"
   ]
  },
  {
   "cell_type": "markdown",
   "id": "c36d9ab8-6416-462f-84fd-0f899677a4fb",
   "metadata": {},
   "source": [
    "## Problem 3"
   ]
  },
  {
   "cell_type": "code",
   "execution_count": 52,
   "id": "5ebff952-89ba-4fb6-ab7f-37a55027dad3",
   "metadata": {},
   "outputs": [],
   "source": [
    "%%makeproblem -wa 3556708_0\n",
    "Question\n",
    "<eqn>\n",
    "INDEX = randnum(1,3,1);\n",
    "period = ['annually','semiannually', 'quarterly', 'monthly', 'daily'];\n",
    "m = [1,2,4,12,365];\n",
    "P = 1000*randnum(2,5,1); \n",
    "PP = commas(P);\n",
    "A = P*randnum(2,9,1); \n",
    "AA = commas(A); \n",
    "AP = A/P;\n",
    "t = randnum(3,9,1);\n",
    "mt = m[INDEX]*t;\n",
    "EQNS = [m[INDEX]];\n",
    "''</eqn>\n",
    "\n",
    "<watex>\n",
    "Find the interest rate \\[r\\] needed for an investment of \\$$PP to grow to \\$$AA in $t years if interest is compounded $period[$INDEX].\n",
    "</watex>\n",
    "\n",
    "<_>\n",
    "\n",
    "Answer\n",
    "<watex>\\[r = $EQNS[0]($AP^{1/$mt} - 1)\\]</watex>\n",
    "<watex>\\[r = $AP^{1/$mt} + 1\\]</watex>\n",
    "<watex>\\[r = $AP^{$mt} - 1\\]</watex>\n",
    "<watex>\\[r = $EQNS[0]($AP^{$mt} + 1)\\]</watex>\n",
    "<watex>\\[r = $AP^{$mt} + 1\\]</watex>\n",
    "\n",
    "\n",
    "Solution\n",
    "<watex>\n",
    "Recall the Compound Interest Formula:\n",
    "<br><br>\n",
    "<center>\\[A = P\\left(1 + \\dfrac{r}{m}\\right)^{mt}\\]</center>\n",
    "<br>\n",
    "where\n",
    "<br><br>\n",
    "- \\[A\\] is the accumulated amount at the end of \\[t\\] years (\\[A = \\$$AA\\]) <br>\n",
    "- \\[P\\] is the principal investment (\\[P = \\$$PP\\]) <br>\n",
    "- \\[r\\] is the nominal interest rate  <br>\n",
    "- \\[m\\] is the number of conversion periods per year (\\[m = $EQNS[0]\\])  <br>\n",
    "- \\[t\\] is the term (in years) of the investment (\\[t = $t\\]) <br>\n",
    "<br>\n",
    "Therefore, \n",
    "<br><br>\n",
    "<center>\\[$A = ${P}\\left(1 + \\dfrac{r}{$EQNS[0]}\\right)^{$EQNS[0]*$t}\\]</center>\n",
    "<br>\n",
    "Divide both sides by \\[$P\\].\n",
    "<br><br>\n",
    "<center>\\[$AP = \\left(1 + \\dfrac{r}{$EQNS[0]}\\right)^{$mt}\\]</center>\n",
    "<br>\n",
    "Raise both sides to the \\[1/$mt\\] power.\n",
    "<br><br>\n",
    "<center>\\[$AP^{1/$mt} = 1 + \\dfrac{r}{$EQNS[0]}\\]</center>\n",
    "<br>\n",
    "Subtract \\[1\\] from both sides.\n",
    "<br><br>\n",
    "<center>\\[$AP^{1/$mt} - 1 = \\dfrac{r}{$EQNS[0]}\\]</center>\n",
    "<br>\n",
    "And finally, multiply both sides by \\[$EQNS[0]\\].\n",
    "<br><br>\n",
    "<center>\\[$EQNS[0]($AP^{1/$mt} - 1) = r\\]</center>\n",
    "</watex>\n",
    "\n",
    "Info\n",
    "'tags': [\"exponential function\", \"interest rate\"],\n",
    "'title': \"Find the interest rate\",\n",
    "'id': \"3556708_0\""
   ]
  },
  {
   "cell_type": "code",
   "execution_count": 53,
   "id": "d356e23e-9eaf-465d-80f4-c9e19aedc19d",
   "metadata": {},
   "outputs": [],
   "source": [
    "P3_0 = cyllene.ProbStack.stack[\"3556708_0\"]"
   ]
  },
  {
   "cell_type": "code",
   "execution_count": 67,
   "id": "b604fe1e-6360-47c4-a64d-96f58ca617d5",
   "metadata": {},
   "outputs": [],
   "source": [
    "%%makeproblem -wa 3556708_1\n",
    "Question\n",
    "<eqn>\n",
    "P = 1000*randnum(2,5,1); \n",
    "PP = commas(P);\n",
    "A = 1000*randnum(6,9,1); \n",
    "AA = commas(A);\n",
    "t = randnum(3,9,1);\n",
    "EQNS = [line_fraction(A,P), line_fraction(P,A), PP, t];\n",
    "''</eqn>\n",
    "\n",
    "<watex>\n",
    "Find the interest rate \\[r\\] needed for an investment of \\$$PP to grow to \\$$AA in $t years if interest is compounded continuously.\n",
    "</watex>\n",
    "\n",
    "<_>\n",
    "\n",
    "Answer\n",
    "<watex>\\[r = \\dfrac{\\ln($EQNS[0])}{$t}\\]</watex>\n",
    "<watex>\\[r = \\dfrac{\\ln($EQNS[0])}{\\ln($t)}\\]</watex>\n",
    "<watex>\\[r = \\dfrac{\\ln($EQNS[1])}{$t}\\]</watex>\n",
    "<watex>\\[r = $t\\ln($EQNS[0])\\]</watex>\n",
    "<watex>\\[r = $t\\ln($EQNS[1])\\]</watex>\n",
    "\n",
    "\n",
    "Solution\n",
    "<watex>\n",
    "Recall the Continuous Compound Interest Formula:\n",
    "<br><br>\n",
    "<center>\\[A = Pe^{rt}\\]</center>\n",
    "<br>\n",
    "where\n",
    "<br><br>\n",
    "- \\[A\\] is the accumulated amount at the end of \\[t\\] years (\\[A = \\$$AA\\]) <br>\n",
    "- \\[P\\] is the principal investment (\\[P = \\$$PP\\])  <br>\n",
    "- \\[r\\] is the annual interest rate  <br>\n",
    "- \\[t\\] is the term (in years) of the investment (\\[t = $t\\])  <br>\n",
    "<br>\n",
    "Therefore, \n",
    "<br><br>\n",
    "<center>\\[$AA = $EQNS[2]e^{$EQNS[3]r}\\]</center>\n",
    "<br>\n",
    "Divide both sides by \\[$PP\\].\n",
    "<br><br>\n",
    "<center>\\[$EQNS[0] = e^{$EQNS[3]r}\\]</center>\n",
    "<br>\n",
    "Take the natural logarithm of both sides and simplify the right-hand side.\n",
    "<br><br>\n",
    "<center>\\[\n",
    "\\ln($EQNS[0]) = \\ln(e^{$EQNS[3]r}) = $EQNS[3]r \\text{ since } \\ln(e^x) = x \\text{ for all } x \n",
    "\\]</center>\n",
    "<br>\n",
    "And finally, divide both sides by \\[$t\\].\n",
    "<br><br>\n",
    "<center>\\[\\dfrac{\\ln($EQNS[0])}{$t} = r\\]</center>\n",
    "</watex>\n",
    "\n",
    "Info\n",
    "'tags': [\"exponential function\", \"interest rate\"],\n",
    "'title': \"Find the interest rate\",\n",
    "'id': \"3556708_1\""
   ]
  },
  {
   "cell_type": "code",
   "execution_count": 68,
   "id": "d4624a75-1879-455d-972b-dd568232b7f3",
   "metadata": {},
   "outputs": [],
   "source": [
    "P3_1 = cyllene.ProbStack.stack[\"3556708_1\"]"
   ]
  },
  {
   "cell_type": "code",
   "execution_count": 70,
   "id": "4884f9f0-ff46-4218-bd84-a05293d8b752",
   "metadata": {},
   "outputs": [
    {
     "data": {
      "application/vnd.jupyter.widget-view+json": {
       "model_id": "ee94e1787cad48c3991c394ff940b1b9",
       "version_major": 2,
       "version_minor": 0
      },
      "text/plain": [
       "VBox(children=(Output(), Button(description='New Version', style=ButtonStyle()), Output(), Output(), Output(),…"
      ]
     },
     "metadata": {},
     "output_type": "display_data"
    }
   ],
   "source": [
    "PH_3 = ProblemHandler([P3_0, P3_1])\n",
    "pv3 = WidgetViewer(PH_3)\n",
    "pv3.show()"
   ]
  },
  {
   "cell_type": "markdown",
   "id": "e92c3705-6dc1-4fc0-9b40-1d6596849e14",
   "metadata": {},
   "source": [
    "---"
   ]
  },
  {
   "cell_type": "markdown",
   "id": "bf390bcc-c46a-4f7e-9eb0-103279f248c8",
   "metadata": {},
   "source": [
    "## Problem 4"
   ]
  },
  {
   "cell_type": "code",
   "execution_count": 9,
   "id": "39afefcd-953b-4820-a86d-4914597b9e6b",
   "metadata": {},
   "outputs": [],
   "source": [
    "%%makeproblem -wa 3436900_0\n",
    "Question\n",
    "<eqn>\n",
    "INDEX = randnum(1,3,1);\n",
    "period = ['annually','semiannually', 'quarterly', 'monthly', 'daily']\n",
    "m = [1,2,4,12,365]\n",
    "mm = m[INDEX];\n",
    "r = m[INDEX]*randnum(2,5,1); \n",
    "rr = r/100; \n",
    "rrm = rr/m[INDEX]; \n",
    "rrm1 = 1 + rrm;\n",
    "P = 1000*randnum(2,5,1); \n",
    "PP = commas(P);\n",
    "A = 1000*randnum(6,9,1); \n",
    "AA = commas(A);\n",
    "AP = line_fraction(A,P);\n",
    "PA = line_fraction(P,A);\n",
    "EQNS = [mm];\n",
    "''</eqn>\n",
    "\n",
    "<watex>\n",
    "How long will it take for \\$$PP to grow to \\$$AA if the investment earns an interest rate of \\[r\\%\\] per year compounded $period[$INDEX]?\n",
    "</watex>\n",
    "\n",
    "<_>\n",
    "\n",
    "Answer\n",
    "<watex>\\[\\dfrac{\\ln($AP)}{$mm\\ln($rrm1)}\\] years</watex>\n",
    "<watex>\\[\\dfrac{$mm\\ln($PA)}{\\ln($rrm1)}\\] years</watex>\n",
    "<watex>\\[\\dfrac{$mm\\ln($AP)}{$rrm1}\\] years</watex>\n",
    "<watex>\\[\\dfrac{\\ln($AP)}{\\ln($rrm1)}\\] years</watex>\n",
    "<watex>\\[\\dfrac{\\ln($PA)}{$mm\\ln($rrm1)}\\] years</watex>\n",
    "\n",
    "\n",
    "Solution\n",
    "<watex>\n",
    "Recall the Compound Interest Formula:\n",
    "<br><br>\n",
    "<center>\\[A = P\\left(1 + \\dfrac{r}{m}\\right)^{mt}\\]</center>\n",
    "<br>\n",
    "where\n",
    "<br><br>\n",
    "- \\[A\\] is the accumulated amount at the end of \\[t\\] years (\\[A = \\$$AA\\])\n",
    "- \\[P\\] is the principal investment (\\[P = \\$$PP\\])\n",
    "- \\[r\\] is the nominal interest rate (\\[r = $rr\\])\n",
    "- \\[m\\] is the number of conversion periods per year (\\[m = $mm\\])\n",
    "- \\[t\\] is the term (in years) of the investment\n",
    "</center>\n",
    "<br>\n",
    "Therefore, \n",
    "<br><br>\n",
    "<center>\\[\n",
    "$A \n",
    "= ${P}\\left(1 + \\dfrac{$rr}{$mm}\\right)^{$EQNS[0]t}\n",
    "= ${P}(1 + $rrm)^{$EQNS[0]t}\n",
    "= ${P}($rrm1)^{$EQNS[0]t}\n",
    "\\]</center>\n",
    "<br>\n",
    "Divide both sides by \\[$P\\].\n",
    "<br><br>\n",
    "<center>\\[$AP = ($rrm1)^{$EQNS[0]t}\\]</center>\n",
    "<br>\n",
    "Take the natural logarithm of both sides and simplify the right-hand side.\n",
    "<br><br>\n",
    "<center>\\[\n",
    "\\ln($AP) \n",
    "= \\ln($rrm1)^{$EQNS[0]t} \n",
    "= $EQNS[0]t*\\ln($rrm1) \n",
    "\\]</center>\n",
    "<br>\n",
    "And finally, divide both sides by \\[$mm\\ln($rrm1)\\].\n",
    "<br><br>\n",
    "<center>\\[\\dfrac{\\ln($AP)}{$mm\\ln($rrm1)} = t\\]</center>\n",
    "<br>\n",
    "</watex>\n",
    "\n",
    "Info\n",
    "'tags': [\"exponential function\", \"length of time\", \"interest\", \"discrete compounding\"],\n",
    "'title': \"Length of time\",\n",
    "'id': \"3436900_0\""
   ]
  },
  {
   "cell_type": "code",
   "execution_count": 10,
   "id": "29185a2f-dc15-4cbf-917d-71b8f6f0b93c",
   "metadata": {},
   "outputs": [],
   "source": [
    "P4_0 = cyllene.ProbStack.stack[\"3436900_0\"]"
   ]
  },
  {
   "cell_type": "code",
   "execution_count": 15,
   "id": "7a07c51e-3d0e-468f-81fd-aa07eefbbf79",
   "metadata": {},
   "outputs": [],
   "source": [
    "%%makeproblem -wa 3436900_1\n",
    "Question\n",
    "<eqn>\n",
    "P = 1000*randnum(2,5,1); \n",
    "PP = commas(P);\n",
    "A = 1000*randnum(6,9,1); \n",
    "AA = commas(A);\n",
    "r = pickone(2,4,5,10); \n",
    "rr = r/100; \n",
    "R = 100/r;\n",
    "AP = line_fraction(A,P);\n",
    "PA = line_fraction(P,A);\n",
    "EQNS = [rr];\n",
    "''</eqn>\n",
    "\n",
    "<watex>\n",
    "How long will it take for \\$$PP to grow to \\$$AA if the investment earns an interest rate of \\[$\\r%\\] per year compounded continuously?\n",
    "</watex>\n",
    "\n",
    "<_>\n",
    "\n",
    "Answer\n",
    "<watex>\\[$R\\ln($AP)\\] years</watex>\n",
    "<watex>\\[\\dfrac{\\ln($AP)}{\\ln($rr)}\\] years</watex>\n",
    "<watex>\\[$R\\ln($PA)\\] years</watex>\n",
    "<watex>\\[$rr\\ln($AP)\\] years</watex>\n",
    "<watex>\\[$rr\\ln($PA)\\] years</watex>\n",
    "\n",
    "\n",
    "Solution\n",
    "<watex>\n",
    "Recall the Continuous Compound Interest Formula:\n",
    "<br><br>\n",
    "<center>\\[A = Pe^{rt}\\]</center>\n",
    "<br>\n",
    "where\n",
    "<br><br>\n",
    "<center>\n",
    "- \\[A\\] is the accumulated amount at the end of \\[t\\] years (\\[A = \\$$AA\\])\n",
    "- \\[P\\] is the principal investment (\\[P = \\$$PP\\])\n",
    "- \\[r\\] is the annual interest rate (\\[r = $rr\\])\n",
    "- \\[t\\] is the term (in years) of the investment\n",
    "</center>\n",
    "<br>\n",
    "Therefore, \n",
    "<br><br>\n",
    "<center>\\[$A = ${P}e^{$EQNS[0]t}\\]</center>\n",
    "<br>\n",
    "Divide both sides by \\[$P\\].\n",
    "<br><br>\n",
    "<center>\\[$AP = e^{$EQNS[0]t}\\]</center>\n",
    "<br>\n",
    "Take the natural logarithm of both sides and simplify the right-hand side.\n",
    "<br><br>\n",
    "<center>\\[\n",
    "\\ln($AP) = \\ln(e^{$EQNS[0]t})\n",
    "= $EQNS[0]t*\\ln(e)\n",
    "= $EQNS[0]t \\text{ since } \\ln(e) = 1\n",
    "\\]</center>\n",
    "<br>\n",
    "And finally, divide both sides by \\[$rr\\].\n",
    "<br><br>\n",
    "<center>\\[\n",
    "t \n",
    "= \\frac{\\ln($AP)}{$rr} \n",
    "= \\frac{\\ln($AP)}{$r/100} \n",
    "= \\frac{100}{$r}\\ln($AP) \n",
    "= $R\\ln($AP)\n",
    "\\]</center>\n",
    "<br>\n",
    "</watex>\n",
    "\n",
    "Info\n",
    "'tags': [\"exponential function\", \"length of time\", \"interest\", \"continuous compounding\"],\n",
    "'title': \"Length of time\",\n",
    "'id': \"3436900_1\""
   ]
  },
  {
   "cell_type": "code",
   "execution_count": 16,
   "id": "74726381-8d34-420f-a44a-ae5d8252b948",
   "metadata": {},
   "outputs": [],
   "source": [
    "P4_1 = cyllene.ProbStack.stack[\"3436900_1\"]"
   ]
  },
  {
   "cell_type": "code",
   "execution_count": 17,
   "id": "671eb368-6f42-436a-85e0-998827778773",
   "metadata": {},
   "outputs": [
    {
     "data": {
      "application/vnd.jupyter.widget-view+json": {
       "model_id": "ab47c81389b94efe9450196e158760ca",
       "version_major": 2,
       "version_minor": 0
      },
      "text/plain": [
       "VBox(children=(Output(), Button(description='New Version', style=ButtonStyle()), Output(), Output(), Output(),…"
      ]
     },
     "metadata": {},
     "output_type": "display_data"
    }
   ],
   "source": [
    "PH_4 = ProblemHandler([P4_0, P4_1])\n",
    "pv4 = WidgetViewer(PH_4)\n",
    "pv4.show()"
   ]
  },
  {
   "cell_type": "markdown",
   "id": "5602fa02-53f8-4130-85de-fdc876885956",
   "metadata": {},
   "source": [
    "---"
   ]
  },
  {
   "cell_type": "markdown",
   "id": "b9d71f37-84ec-4a8a-8b55-8eb4de28c2de",
   "metadata": {},
   "source": [
    "## Problem 5"
   ]
  },
  {
   "cell_type": "code",
   "execution_count": 11,
   "id": "84c6d04a-6669-459f-91f2-a15110c61f22",
   "metadata": {},
   "outputs": [],
   "source": [
    "%%makeproblem -wa 3413483_0\n",
    "Question\n",
    "<eqn>\n",
    "INDEX = randnum(1,3,1);\n",
    "(gender) = pickone('him','her');\n",
    "period = ['annually','semiannually', 'quarterly', 'monthly', 'daily'];\n",
    "m = [1,2,4,12,365];\n",
    "r = m[INDEX]*randnum(2,4,1);\n",
    "P = 5000*randnum(1,3,1,r);\n",
    "PP = commas(P);\n",
    "t = randnum(2,9,1,r);\n",
    "''</eqn>\n",
    "\n",
    "<watex>\n",
    "You have \\$$PP in the bank comfortably earning \\[\\$r\\%\\] interest compounded <EQN $period[$INDEX]>. Your cousin needs \\$$PP to buy a new car. In order to get the same total return, what interest rate \\[r\\] should you request from <EQN $gender> if the money you lend <EQN $gender> is to be compounded continuously?\n",
    "</watex>\n",
    "\n",
    "<_>\n",
    "\n",
    "Answer\n",
    "<watex>\\[r = <EQN $m[$INDEX]>\\ln(<EQN 1 + $r/100/$m[$INDEX]>)\\]</watex>\n",
    "<watex>\\[r = <EQN $m[$INDEX]>\\ln(<EQN 1 + $r/100>)\\]</watex>\n",
    "<watex>\\[r = (<EQN 1 + $r/100/$m[$INDEX]>)^{<EQN $m[$INDEX]>}\\]</watex>\n",
    "<watex>\\[r = <EQN $m[$INDEX]>e^{\\ln(<EQN 1 + $r/100/$m[$INDEX]>)}\\]</watex>\n",
    "<watex>\\[r = e^{<EQN $m[$INDEX]>\\ln(<EQN 1 + $r/100/$m[$INDEX]>)}\\]</watex>\n",
    "\n",
    "\n",
    "Solution\n",
    "<watex>\n",
    "The problem suggests that you have two different ways to invest your money: either leave it in the bank earning \\[\\$r%\\] interest compounded <EQN $period[$INDEX]> or give it to your cousin and let <EQN $gender> repay you with interest (compounded continuously) in \\[t\\] years.  (Note that the problem doesn't state when your cousin will repay the loan, however we will see in the following calculations, that the value of \\[t\\] does not affect the interest rate.)  The problem then is to find the interest rate, \\[r\\], you should charge your cousin so that you get the same total return regardless of how your money is invested.\n",
    "<br><br>\n",
    "If you leave your money in the bank for \\[t\\] years, then the future value of your investment is\n",
    "<br><br>\n",
    "<center>\\[$P\\left(1 + \\dfrac{<eqn $r/100>}{<eqn $m[$INDEX]>}\\right)^{<eqn $m[$INDEX]>t} = $P(<eqn 1 + $r/100/$m[$INDEX]>)^{<eqn $m[$INDEX]>t}\\].</center>\n",
    "<br>\n",
    "If you let your cousin borrow your money compounded continuously for \\[t\\] years, then the future value of your investment (i.e., how much your cousin owes you in \\[t\\] years) is\n",
    "<br><br>\n",
    "<center>\\[${P}e^{rt}\\]</center>\n",
    "<br>\n",
    "where \\[r\\] is the unknown interest rate.\n",
    "<br><br>\n",
    "Now set the two quantities equal to each other and solve for \\[r\\].\n",
    "<br><br> \n",
    "<center>\\[$P(<eqn 1 + $r/100/$m[$INDEX]>)^{<eqn $m[$INDEX]>t} = ${P}e^{rt}\\]</center>\n",
    "<br>\n",
    "Divide both sides by \\[$P\\].\n",
    "<br><br> \n",
    "<center>\\[(<eqn 1 + $r/100/$m[$INDEX]>)^{<eqn $m[$INDEX]>t} = e^{rt}\\]</center>\n",
    "<br>\n",
    "Take the natural logarithm of both sides.\n",
    "<br><br> \n",
    "<center>\\[\\ln((<eqn 1 + $r/100/$m[$INDEX]>)^{<eqn $m[$INDEX]>t}) = ln(e^{rt})\\]</center>\n",
    "<br>\n",
    "Simplify using properties of logarithms.\n",
    "<br><br> \n",
    "<center>\\[<eqn $m[$INDEX]>t\\ln(<eqn 1 + $r/100/$m[$INDEX]>) = rt\\]</center>\n",
    "<br>\n",
    "And finally, divide both sides by \\[t\\].\n",
    "<br><br> \n",
    "<center>\\[<eqn $m[$INDEX]>\\ln(<eqn 1 + $r/100/$m[$INDEX]>) = r\\]</center>\n",
    "<br>\n",
    "</watex>\n",
    "\n",
    "Info\n",
    "'tags': [\"exponential function\", \"logarithm\", \"interest\", \"continuous compounding\", \"discrete compounding\"],\n",
    "'title': \"Find the interest rate\",\n",
    "'id': \"3413483_0\""
   ]
  },
  {
   "cell_type": "code",
   "execution_count": 13,
   "id": "787e1b2b",
   "metadata": {},
   "outputs": [],
   "source": [
    "P5_0 = cyllene.ProbStack.stack[\"3413483_0\"]"
   ]
  },
  {
   "cell_type": "code",
   "execution_count": 14,
   "id": "4bfad6e8",
   "metadata": {},
   "outputs": [
    {
     "data": {
      "application/vnd.jupyter.widget-view+json": {
       "model_id": "0a26ab674d21474b92c83e5f3f3f25a6",
       "version_major": 2,
       "version_minor": 0
      },
      "text/plain": [
       "VBox(children=(Output(), Button(description='New Version', style=ButtonStyle()), Output(), Output(), Output(),…"
      ]
     },
     "metadata": {},
     "output_type": "display_data"
    }
   ],
   "source": [
    "PH_5 = ProblemHandler([P5_0])\n",
    "pv5 = WidgetViewer(PH_5)\n",
    "pv5.show()"
   ]
  },
  {
   "cell_type": "code",
   "execution_count": null,
   "id": "9b8f9b01",
   "metadata": {},
   "outputs": [],
   "source": []
  }
 ],
 "metadata": {
  "jupytext": {
   "formats": "ipynb,md"
  },
  "kernelspec": {
   "display_name": "Python 3 (ipykernel)",
   "language": "python",
   "name": "python3"
  },
  "language_info": {
   "codemirror_mode": {
    "name": "ipython",
    "version": 3
   },
   "file_extension": ".py",
   "mimetype": "text/x-python",
   "name": "python",
   "nbconvert_exporter": "python",
   "pygments_lexer": "ipython3",
   "version": "3.10.6"
  }
 },
 "nbformat": 4,
 "nbformat_minor": 5
}
