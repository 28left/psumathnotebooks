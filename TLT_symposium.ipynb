{
 "cells": [
  {
   "cell_type": "markdown",
   "id": "popular-authority",
   "metadata": {
    "slideshow": {
     "slide_type": "slide"
    }
   },
   "source": [
    "# Learning Math with Jupyter Notebooks\n",
    "\n",
    "---\n",
    "\n",
    "### Jan Reimann, Department of Mathematics, Penn State University Park\n",
    "\n",
    "### May 13, 2021"
   ]
  },
  {
   "cell_type": "markdown",
   "id": "mysterious-rubber",
   "metadata": {
    "slideshow": {
     "slide_type": "slide"
    }
   },
   "source": [
    "## What is a Jupyter notebook?\n",
    "\n",
    "Jupyter notebooks are interactive notebooks that combine \n",
    "\n",
    "- content input/output via **Markdown**\n",
    "\n",
    "- interactive computations using a REPL kernel (IPython, Sage, Julia, R, ...)\n",
    "\n",
    "**REPL:** **R**ead–**E**val–**P**rint **L**oop"
   ]
  },
  {
   "cell_type": "code",
   "execution_count": 1,
   "id": "brown-nickel",
   "metadata": {},
   "outputs": [
    {
     "data": {
      "text/plain": [
       "48"
      ]
     },
     "execution_count": 1,
     "metadata": {},
     "output_type": "execute_result"
    }
   ],
   "source": [
    "6*8"
   ]
  },
  {
   "cell_type": "markdown",
   "id": "broken-modem",
   "metadata": {
    "slideshow": {
     "slide_type": "subslide"
    }
   },
   "source": [
    "- A notebook is a **dynamic document** consisting of **cells**.\n",
    "\n",
    "\n",
    "- A cell can be either **Markdown** (for text, images, etc) or **code**.\n",
    "\n",
    "\n",
    "- A user can **add/delete cells** at any time."
   ]
  },
  {
   "cell_type": "markdown",
   "id": "varied-toilet",
   "metadata": {
    "slideshow": {
     "slide_type": "slide"
    }
   },
   "source": [
    "## What can I do with a Jupyter notebook?\n",
    "\n",
    "- Easily input and display math/latex:"
   ]
  },
  {
   "cell_type": "markdown",
   "id": "provincial-freeze",
   "metadata": {},
   "source": [
    "> Let $H_n = \\sum\\limits_{j=1}^n \\frac{1}{j}$ be the $n$-th\n",
    "harmonic number.\n",
    ">\n",
    "> __Hypothesis:__ \n",
    "For each $n \\ge 1$, it holds that \n",
    "$$\\sum\\limits_{d|n} d \\le H_n + \\exp (H_n) \\log (H_n),$$\n",
    "with equality only for $n = 1.$ "
   ]
  },
  {
   "cell_type": "markdown",
   "id": "consecutive-plenty",
   "metadata": {
    "slideshow": {
     "slide_type": "subslide"
    }
   },
   "source": [
    "- Include links:\n",
    "\n",
    "> Some helpful resources for Jupyter:\n",
    ">\n",
    ">    - [The Jupyter Project](https://jupyter.org)\n",
    ">    \n",
    ">    - [Teaching and Learning with Jupyter](https://jupyter4edu.github.io/jupyter-edu-book/)\n",
    ">\n",
    ">    - [Markdown Guide](https://www.markdownguide.org)\n",
    ">    \n",
    ">    - [IPython documentation](https://ipython.readthedocs.io/en/stable/)"
   ]
  },
  {
   "cell_type": "markdown",
   "id": "found-shoulder",
   "metadata": {
    "slideshow": {
     "slide_type": "subslide"
    }
   },
   "source": [
    "- Include graphics:\n",
    "\n",
    "![Old Main in Spring](Old-Main-Spring.jpeg)\n"
   ]
  },
  {
   "cell_type": "markdown",
   "id": "thick-coaching",
   "metadata": {
    "hide_input": true,
    "slideshow": {
     "slide_type": "subslide"
    }
   },
   "source": [
    "- Embed videos:"
   ]
  },
  {
   "cell_type": "code",
   "execution_count": 2,
   "id": "greenhouse-folder",
   "metadata": {
    "hide_input": false,
    "scrolled": false
   },
   "outputs": [
    {
     "data": {
      "text/html": [
       "\n",
       "        <iframe\n",
       "            width=\"80%\"\n",
       "            height=\"600px\"\n",
       "            src=\"https://www.youtube.com/embed/fs4ImYH0GRg?rel=0&amp;controls=0&amp;showinfo=0\"\n",
       "            frameborder=\"0\"\n",
       "            allowfullscreen\n",
       "        ></iframe>\n",
       "        "
      ],
      "text/plain": [
       "<IPython.lib.display.IFrame at 0x7fa867dbc670>"
      ]
     },
     "execution_count": 2,
     "metadata": {},
     "output_type": "execute_result"
    }
   ],
   "source": [
    "from IPython.display import IFrame\n",
    "IFrame(\"https://www.youtube.com/embed/fs4ImYH0GRg?rel=0&amp;controls=0&amp;showinfo=0\", '80%', '600px')"
   ]
  },
  {
   "cell_type": "markdown",
   "id": "chemical-marathon",
   "metadata": {
    "slideshow": {
     "slide_type": "subslide"
    }
   },
   "source": [
    "- Run code (Python, Sage, Julia, R, many more...)"
   ]
  },
  {
   "cell_type": "code",
   "execution_count": 3,
   "id": "sharing-liberal",
   "metadata": {},
   "outputs": [
    {
     "data": {
      "text/latex": [
       "$\\displaystyle 3 x^{2} - \\frac{2}{x^{2}}$"
      ],
      "text/plain": [
       "3*x**2 - 2/x**2"
      ]
     },
     "execution_count": 3,
     "metadata": {},
     "output_type": "execute_result"
    }
   ],
   "source": [
    "from sympy import diff, sympify, Symbol\n",
    "x = Symbol('x')\n",
    "\n",
    "f = sympify('x^3+2/x')\n",
    "\n",
    "diff(f)"
   ]
  },
  {
   "cell_type": "markdown",
   "id": "exciting-gravity",
   "metadata": {
    "slideshow": {
     "slide_type": "subslide"
    }
   },
   "source": [
    "- **Prepare slides!**\n",
    "\n",
    "    [Creating Presentations With Jupyter Notebook](https://rise.readthedocs.io/en/stable/index.html)\n",
    "<br>\n",
    "<br>\n",
    "\n",
    "- Prepare handouts (pdf, ...)\n",
    "- Write books\n",
    "- ..."
   ]
  },
  {
   "cell_type": "markdown",
   "id": "minor-clarity",
   "metadata": {
    "slideshow": {
     "slide_type": "slide"
    }
   },
   "source": [
    "## Possibilities / Advantages\n",
    "\n",
    "- Open source\n",
    "\n",
    "- Authoring and delivery in the **same** platform\n",
    "\n",
    "- Notebook format text-based, easily portable (`Pandoc`, `nbconvert`)\n",
    "\n",
    "- Interactivity\n",
    "\n",
    "- Engagement: students can add cells to\n",
    "    - perform additional computations\n",
    "    - add content or notes\n",
    "\n",
    "    __It is \"their\" document.__"
   ]
  },
  {
   "cell_type": "markdown",
   "id": "determined-oasis",
   "metadata": {
    "slideshow": {
     "slide_type": "subslide"
    }
   },
   "source": [
    "## Possibilities / Advantages\n",
    "\n",
    "- Ubiquitous platform, becoming de-facto standard in the data science world.\n",
    "\n",
    "- Plenty of tools to compute and graph functions <br>\n",
    "(`Sympy`, `Numpy`, `matplotlib`, ...)\n",
    "\n",
    "- Better data-oriented activities <br>\n",
    "(`pandas`, `seaborn`, `scikit-learn`, ...) \n"
   ]
  },
  {
   "cell_type": "markdown",
   "id": "changed-piano",
   "metadata": {
    "slideshow": {
     "slide_type": "subslide"
    }
   },
   "source": [
    "[<h2 align=\"center\">Sample Notebook: Logistic functions (Calculus)</h2>](https://mybinder.org/v2/gh/28left/psumathnotebooks/master?filepath=logistic.ipynb)\n",
    "\n",
    "---"
   ]
  },
  {
   "cell_type": "markdown",
   "id": "informational-telescope",
   "metadata": {
    "slideshow": {
     "slide_type": "slide"
    }
   },
   "source": [
    "## Challenge\n",
    "\n",
    "Combine these tremendous possibilities into one learning tool that is\n",
    "\n",
    "<h2 align=\"center\", style=\"color:DarkBlue\">\n",
    "    user friendly <br><br>\n",
    "    accessible  <br><br>\n",
    "    does not require programming knowledge  <br><br>\n",
    "    can be easily deployed\n",
    "</h2>"
   ]
  },
  {
   "cell_type": "markdown",
   "id": "assumed-north",
   "metadata": {
    "slideshow": {
     "slide_type": "slide"
    }
   },
   "source": [
    "## Phase 1\n",
    "\n",
    "<img src=\"phase_1.png\" alt=\"Steps Pahse 1\" width=\"1000\"/>\n",
    "<!-- ![Steps Phase 1](phase_1.png) -->"
   ]
  },
  {
   "cell_type": "markdown",
   "id": "cosmetic-metadata",
   "metadata": {
    "slideshow": {
     "slide_type": "subslide"
    }
   },
   "source": [
    "[<h2 align=\"center\">Tutorial Notebook</h2>](https://mybinder.org/v2/gh/28left/psumathnotebooks/master?filepath=110_0_jupyter_tutorial_pure.ipynb)\n",
    "\n",
    "---"
   ]
  },
  {
   "cell_type": "markdown",
   "id": "perceived-actor",
   "metadata": {
    "slideshow": {
     "slide_type": "slide"
    }
   },
   "source": [
    "## Phase 2\n",
    "\n",
    "<img src=\"TLT_Symposium_Jupyter_UD.png\" alt=\"Jupyter Universal Design\" width=\"1000\"/>\n",
    "\n",
    "<!-- ![Jupyter Universal Design](TLT_Symposium_Jupyter_UD.png) -->"
   ]
  },
  {
   "cell_type": "markdown",
   "id": "local-india",
   "metadata": {
    "slideshow": {
     "slide_type": "slide"
    }
   },
   "source": [
    "## The Team\n",
    "---\n",
    "### TLT  \n",
    "Bradley Antill, Matt Hansen, Brad Kozlek, Jenay Roberts, JooYoung Seo, Philip Voorhees\n",
    "\n",
    "### Math Department\n",
    "Nawaf Alansari, Tigran Eritsyan, Raymond Friend\n",
    "\n",
    "### PSU Cloud Services\n",
    "Paul Crum"
   ]
  },
  {
   "cell_type": "markdown",
   "id": "normal-running",
   "metadata": {
    "slideshow": {
     "slide_type": "slide"
    }
   },
   "source": [
    "<h2 align=\"center\">Questions? Interested?</h2>\n",
    "\n",
    "- Contact me at <jan.reimann@psu.edu>\n",
    "\n",
    "- I can give a more thorough walk-through and add you to our Binder server.\n",
    "\n",
    "- Pilot in Math 110 WC, Fall 2021\n",
    "\n"
   ]
  }
 ],
 "metadata": {
  "celltoolbar": "Slideshow",
  "hide_input": false,
  "kernelspec": {
   "display_name": "Python 3",
   "language": "python",
   "name": "python3"
  },
  "language_info": {
   "codemirror_mode": {
    "name": "ipython",
    "version": 3
   },
   "file_extension": ".py",
   "mimetype": "text/x-python",
   "name": "python",
   "nbconvert_exporter": "python",
   "pygments_lexer": "ipython3",
   "version": "3.9.4"
  }
 },
 "nbformat": 4,
 "nbformat_minor": 5
}
