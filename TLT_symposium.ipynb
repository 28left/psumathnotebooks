{
 "cells": [
  {
   "cell_type": "markdown",
   "id": "incorporate-wholesale",
   "metadata": {
    "slideshow": {
     "slide_type": "slide"
    }
   },
   "source": [
    "# Learning Math with Jupyter Notebooks\n",
    "\n",
    "---\n",
    "\n",
    "### Jan Reimann, Department of Mathematics, Penn State University Park\n",
    "\n",
    "### May 13, 2021"
   ]
  },
  {
   "cell_type": "markdown",
   "id": "aquatic-biology",
   "metadata": {
    "slideshow": {
     "slide_type": "slide"
    }
   },
   "source": [
    "## What is a Jupyter notebook?\n",
    "\n",
    "Jupyter notebooks are interactive notebooks that combine \n",
    "\n",
    "- content input/output via **Markdown**\n",
    "\n",
    "- interactive computations using a REPL kernel (IPython, Sage, Julia, R, ...)\n",
    "\n",
    "**REPL:** **R**ead–**E**val–**P**rint **L**oop"
   ]
  },
  {
   "cell_type": "code",
   "execution_count": 1,
   "id": "baking-poland",
   "metadata": {},
   "outputs": [
    {
     "data": {
      "text/plain": [
       "42"
      ]
     },
     "execution_count": 1,
     "metadata": {},
     "output_type": "execute_result"
    }
   ],
   "source": [
    "6*7"
   ]
  },
  {
   "cell_type": "markdown",
   "id": "inappropriate-oregon",
   "metadata": {
    "slideshow": {
     "slide_type": "subslide"
    }
   },
   "source": [
    "- A notebook is a **dynamic document** consisting of **cells**.\n",
    "\n",
    "\n",
    "- A cell can be either **Markdown** (for text, images, etc) or **code**.\n",
    "\n",
    "\n",
    "- A user can **add/delete cells** at any time."
   ]
  },
  {
   "cell_type": "markdown",
   "id": "grave-princeton",
   "metadata": {
    "slideshow": {
     "slide_type": "slide"
    }
   },
   "source": [
    "## What can I do with a Jupyter notebook?\n",
    "\n",
    "- Easily input and display math/latex:"
   ]
  },
  {
   "cell_type": "markdown",
   "id": "female-amber",
   "metadata": {},
   "source": [
    "Let $H_n = \\sum\\limits_{j=0}^n \\frac{1}{j}$ be the $n$-th\n",
    "harmonic number.\n",
    "\n",
    "__Hypothesis:__ \n",
    "For each $n \\ge 1$, it holds that \n",
    "$$\\sum\\limits_{d|n} d \\le H_n + \\exp (H_n) \\log (H_n),$$\n",
    "with equality only for $n = 1.$ "
   ]
  },
  {
   "cell_type": "markdown",
   "id": "adopted-competition",
   "metadata": {
    "slideshow": {
     "slide_type": "subslide"
    }
   },
   "source": [
    "- Include links:\n",
    "\n",
    "> Some helpful resources for Jupyter:\n",
    ">\n",
    ">    - [The Jupyter Project](https://jupyter.org)\n",
    ">    \n",
    ">    - [Teaching and Learning with Jupyter](https://jupyter4edu.github.io/jupyter-edu-book/)\n",
    ">\n",
    ">    - [Markdown Guide](https://www.markdownguide.org)\n",
    ">    \n",
    ">    - [IPython documentation](https://ipython.readthedocs.io/en/stable/)"
   ]
  },
  {
   "cell_type": "markdown",
   "id": "healthy-theorem",
   "metadata": {
    "slideshow": {
     "slide_type": "subslide"
    }
   },
   "source": [
    "- Include graphics:\n",
    "\n",
    "![Old Main in Spring](Old-Main-Spring.jpeg)\n"
   ]
  },
  {
   "cell_type": "markdown",
   "id": "handled-blake",
   "metadata": {
    "hide_input": true,
    "slideshow": {
     "slide_type": "subslide"
    }
   },
   "source": [
    "- Embed videos:"
   ]
  },
  {
   "cell_type": "code",
   "execution_count": 2,
   "id": "charged-studio",
   "metadata": {
    "hide_input": false,
    "scrolled": false
   },
   "outputs": [
    {
     "data": {
      "text/html": [
       "\n",
       "        <iframe\n",
       "            width=\"80%\"\n",
       "            height=\"600px\"\n",
       "            src=\"https://www.youtube.com/embed/fs4ImYH0GRg?rel=0&amp;controls=0&amp;showinfo=0\"\n",
       "            frameborder=\"0\"\n",
       "            allowfullscreen\n",
       "        ></iframe>\n",
       "        "
      ],
      "text/plain": [
       "<IPython.lib.display.IFrame at 0x7fe23809f160>"
      ]
     },
     "execution_count": 2,
     "metadata": {},
     "output_type": "execute_result"
    }
   ],
   "source": [
    "from IPython.display import IFrame\n",
    "IFrame(\"https://www.youtube.com/embed/fs4ImYH0GRg?rel=0&amp;controls=0&amp;showinfo=0\", '80%', '600px')"
   ]
  },
  {
   "cell_type": "markdown",
   "id": "oriental-messenger",
   "metadata": {
    "slideshow": {
     "slide_type": "subslide"
    }
   },
   "source": [
    "- Run code (Python, Sage, Julia, R, many more...)"
   ]
  },
  {
   "cell_type": "code",
   "execution_count": 3,
   "id": "sized-cocktail",
   "metadata": {},
   "outputs": [
    {
     "data": {
      "text/latex": [
       "$\\displaystyle 3 x^{2} - \\frac{2}{x^{2}}$"
      ],
      "text/plain": [
       "3*x**2 - 2/x**2"
      ]
     },
     "execution_count": 3,
     "metadata": {},
     "output_type": "execute_result"
    }
   ],
   "source": [
    "from sympy import diff, sympify, Symbol\n",
    "x = Symbol('x')\n",
    "\n",
    "f = sympify('x^3+2/x')\n",
    "\n",
    "diff(f)"
   ]
  },
  {
   "cell_type": "markdown",
   "id": "smooth-amendment",
   "metadata": {
    "slideshow": {
     "slide_type": "subslide"
    }
   },
   "source": [
    "- Run code and generate interactive elements:"
   ]
  },
  {
   "cell_type": "code",
   "execution_count": 4,
   "id": "integrated-symphony",
   "metadata": {},
   "outputs": [
    {
     "data": {
      "application/vnd.jupyter.widget-view+json": {
       "model_id": "e0a3244151cb4427a1bbf6f9fd6df770",
       "version_major": 2,
       "version_minor": 0
      },
      "text/plain": [
       "interactive(children=(FloatSlider(value=0.505, description='h', max=1.0, min=0.01), Output()), _dom_classes=('…"
      ]
     },
     "metadata": {},
     "output_type": "display_data"
    }
   ],
   "source": [
    "from ipywidgets import interact, fixed\n",
    "\n",
    "\n",
    "def diff_quot(a,h):\n",
    "    if h != 0: return ((float(f.subs(x, a+h))-float(f.subs(x,a)))/h)\n",
    "    \n",
    "interact(diff_quot, a=fixed(1), h= (0.01,1));"
   ]
  },
  {
   "cell_type": "markdown",
   "id": "decimal-leisure",
   "metadata": {
    "slideshow": {
     "slide_type": "subslide"
    }
   },
   "source": [
    "- **Prepare slides!**\n",
    "\n",
    "    [Creating Presentations With Jupyter Notebook](https://rise.readthedocs.io/en/stable/index.html)\n",
    "<br>\n",
    "<br>\n",
    "\n",
    "- Prepare handouts (pdf, ...)\n",
    "- Write books\n",
    "- ..."
   ]
  },
  {
   "cell_type": "markdown",
   "id": "determined-andrews",
   "metadata": {
    "slideshow": {
     "slide_type": "slide"
    }
   },
   "source": [
    "## Possibilities / Advantages\n",
    "\n",
    "- Open source\n",
    "\n",
    "- Authoring and delivery in the **same** platform\n",
    "\n",
    "- Notebook format text-based, easily portable (`Pandoc`, `nbconvert`)\n",
    "\n",
    "- Interactivity\n",
    "\n",
    "- Engagement: students can add cells to\n",
    "    - perform additional computations\n",
    "    - add content or notes\n",
    "\n",
    "    __It is \"their\" document.__"
   ]
  },
  {
   "cell_type": "markdown",
   "id": "disabled-doctrine",
   "metadata": {
    "slideshow": {
     "slide_type": "subslide"
    }
   },
   "source": [
    "## Possibilities / Advantages\n",
    "\n",
    "- Ubiquitous platform, becoming de-facto standard in the data science world.\n",
    "\n",
    "- Plenty of tools to compute and graph functions (`Sympy`, `Numpy`, `matplotlib`, ...)\n",
    "\n",
    "- Better data-oriented activities (`pandas`, `seaborn`), even ML (`tensorflow`, `pytorch`, `scikit-learn`) \n"
   ]
  },
  {
   "cell_type": "markdown",
   "id": "dedicated-planet",
   "metadata": {
    "slideshow": {
     "slide_type": "subslide"
    }
   },
   "source": [
    "[<h2 align=\"center\">Sample Notebook 1</h2>](https://mybinder.org/v2/gh/28left/psumathnotebooks/master?filepath=logistic.ipynb)\n",
    "\n",
    "---"
   ]
  },
  {
   "cell_type": "markdown",
   "id": "fifteen-plasma",
   "metadata": {
    "slideshow": {
     "slide_type": "slide"
    }
   },
   "source": [
    "## Challenge\n",
    "\n",
    "Combine these tremendous possibilities into one learning tool that is\n",
    "\n",
    "<h2 align=\"center\", style=\"color:DarkBlue\">\n",
    "    user friendly <br><br>\n",
    "    accessible  <br><br>\n",
    "    does not require programming knowledge  <br><br>\n",
    "    can be easily deployed\n",
    "</h2>"
   ]
  },
  {
   "cell_type": "markdown",
   "id": "architectural-melbourne",
   "metadata": {
    "slideshow": {
     "slide_type": "slide"
    }
   },
   "source": [
    "## Phase 1\n",
    "\n",
    "![Steps Phase 1](phase_1.pdf)"
   ]
  },
  {
   "cell_type": "markdown",
   "id": "experimental-extent",
   "metadata": {
    "slideshow": {
     "slide_type": "subslide"
    }
   },
   "source": [
    "[<h2 align=\"center\">Sample Notebook 2</h2>](https://mybinder.org/v2/gh/28left/psumathnotebooks/master?filepath=logistic.ipynb)\n",
    "\n",
    "---"
   ]
  },
  {
   "cell_type": "markdown",
   "id": "honest-cannon",
   "metadata": {
    "slideshow": {
     "slide_type": "slide"
    }
   },
   "source": [
    "## Phase 2\n",
    "\n",
    "![Jupyter Universal Design](TLT_Symposium_Jupyter_UD.pdf)"
   ]
  },
  {
   "cell_type": "markdown",
   "id": "affiliated-letter",
   "metadata": {
    "slideshow": {
     "slide_type": "slide"
    }
   },
   "source": [
    "## The Team\n",
    "\n",
    "### TLT  \n",
    "- Bradley Antill \n",
    "- Matt Hansen\n",
    "- JooYoung Seo\n",
    "- Brad Kozlek\n",
    "- Jenay Roberts\n",
    "- Philip Voorhees\n",
    "\n",
    "### Math Department\n",
    "- Nawaf Alansari\n",
    "- Tigran Eritsyan\n",
    "- Raymond Friend\n",
    "\n",
    "### PSU Cloud Services\n",
    "- Paul Crum"
   ]
  },
  {
   "cell_type": "markdown",
   "id": "earned-gospel",
   "metadata": {
    "slideshow": {
     "slide_type": "slide"
    }
   },
   "source": [
    "<h2 align=\"center\">Questions? Interested?</h2>\n",
    "\n",
    "- Contact me at <jan.reimann@psu.edu>\n",
    "\n",
    "- I can give a more thorough walk-through and add you to our Binder server.\n",
    "\n",
    "- Pilot in Math 110 WC, Fall 2021\n",
    "\n"
   ]
  }
 ],
 "metadata": {
  "celltoolbar": "Slideshow",
  "hide_input": false,
  "kernelspec": {
   "display_name": "Python 3",
   "language": "python",
   "name": "python3"
  },
  "language_info": {
   "codemirror_mode": {
    "name": "ipython",
    "version": 3
   },
   "file_extension": ".py",
   "mimetype": "text/x-python",
   "name": "python",
   "nbconvert_exporter": "python",
   "pygments_lexer": "ipython3",
   "version": "3.8.8"
  }
 },
 "nbformat": 4,
 "nbformat_minor": 5
}
