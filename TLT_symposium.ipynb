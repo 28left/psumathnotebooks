{
 "cells": [
  {
   "cell_type": "markdown",
   "id": "incorporate-wholesale",
   "metadata": {
    "slideshow": {
     "slide_type": "slide"
    }
   },
   "source": [
    "# Learning Math with Jupyter Notebooks\n",
    "\n",
    "---\n",
    "\n",
    "### Jan Reimann, Department of Mathematics\n",
    "\n",
    "### May 13, 2021"
   ]
  },
  {
   "cell_type": "markdown",
   "id": "aquatic-biology",
   "metadata": {
    "slideshow": {
     "slide_type": "slide"
    }
   },
   "source": [
    "## What is a Jupyter notebook?\n",
    "\n",
    "Jupyter notebooks are interactive notebooks that combine \n",
    "\n",
    "- content input/output via **Markdown**\n",
    "\n",
    "- interactive computations using a REPL kernel (IPython, Sage, Julia, R, ...)\n",
    "\n",
    "**REPL:** **R**ead–**E**val–**P**rint **L**oop"
   ]
  },
  {
   "cell_type": "code",
   "execution_count": null,
   "id": "baking-poland",
   "metadata": {},
   "outputs": [],
   "source": [
    "6*7"
   ]
  },
  {
   "cell_type": "markdown",
   "id": "inappropriate-oregon",
   "metadata": {
    "slideshow": {
     "slide_type": "subslide"
    }
   },
   "source": [
    "- A notebook is a **dynamic document** consisting of **cells**.\n",
    "\n",
    "\n",
    "- A cell can be either **Markdown** (for text, images, etc) or **code**.\n",
    "\n",
    "\n",
    "- A user can **add/delete cells** at any time."
   ]
  },
  {
   "cell_type": "markdown",
   "id": "grave-princeton",
   "metadata": {
    "slideshow": {
     "slide_type": "slide"
    }
   },
   "source": [
    "## What can I do with a Jupyter notebook?\n",
    "\n",
    "- Easily input and display math/latex:"
   ]
  },
  {
   "cell_type": "markdown",
   "id": "female-amber",
   "metadata": {},
   "source": [
    "Let $H_n = \\sum\\limits_{j=1}^n \\frac{1}{j}$ be the $n$-th\n",
    "harmonic number.\n",
    "\n",
    "__Claim:__ \n",
    "For each $n \\ge 1$, it holds that \n",
    "$$\\sum\\limits_{d|n} d \\le H_n + \\exp (H_n) \\log (H_n),$$\n",
    "with equality only for $n = 1.$ "
   ]
  },
  {
   "cell_type": "markdown",
   "id": "adopted-competition",
   "metadata": {
    "slideshow": {
     "slide_type": "subslide"
    }
   },
   "source": [
    "- Include links:\n",
    "\n",
    "> Some helpful resources for Jupyter:\n",
    ">\n",
    ">    - [The Jupyter Project](https://jupyter.org)\n",
    ">    \n",
    ">    - [Teaching and Learning with Jupyter](https://jupyter4edu.github.io/jupyter-edu-book/)\n",
    ">\n",
    ">    - [Markdown Guide](https://www.markdownguide.org)\n",
    ">    \n",
    ">    - [IPython documentation](https://ipython.readthedocs.io/en/stable/)"
   ]
  },
  {
   "cell_type": "markdown",
   "id": "healthy-theorem",
   "metadata": {
    "slideshow": {
     "slide_type": "subslide"
    }
   },
   "source": [
    "- Include graphics:\n",
    "\n",
    "![Jupyter workflow](flow_diagram.jpg)\n"
   ]
  },
  {
   "cell_type": "markdown",
   "id": "handled-blake",
   "metadata": {
    "hide_input": true,
    "slideshow": {
     "slide_type": "subslide"
    }
   },
   "source": [
    "- Embed videos:"
   ]
  },
  {
   "cell_type": "code",
   "execution_count": null,
   "id": "charged-studio",
   "metadata": {
    "hide_input": false,
    "scrolled": false
   },
   "outputs": [],
   "source": [
    "from IPython.display import IFrame\n",
    "IFrame(\"https://www.youtube.com/embed/fs4ImYH0GRg?rel=0&amp;controls=0&amp;showinfo=0\", '80%', '600px')"
   ]
  },
  {
   "cell_type": "markdown",
   "id": "oriental-messenger",
   "metadata": {
    "slideshow": {
     "slide_type": "subslide"
    }
   },
   "source": [
    "- Run code (Python, Sage, Julia, R, many more...)"
   ]
  },
  {
   "cell_type": "code",
   "execution_count": null,
   "id": "sized-cocktail",
   "metadata": {},
   "outputs": [],
   "source": [
    "from sympy import diff, sympify, Symbol\n",
    "x = Symbol('x')\n",
    "\n",
    "f = sympify('x^3+2/x')\n",
    "\n",
    "diff(f)"
   ]
  },
  {
   "cell_type": "markdown",
   "id": "smooth-amendment",
   "metadata": {
    "slideshow": {
     "slide_type": "subslide"
    }
   },
   "source": [
    "- Run code and generate interactive elements:"
   ]
  },
  {
   "cell_type": "code",
   "execution_count": null,
   "id": "integrated-symphony",
   "metadata": {},
   "outputs": [],
   "source": [
    "from ipywidgets import interact, fixed\n",
    "\n",
    "\n",
    "def diff_quot(a,h):\n",
    "    if h != 0: return ((float(f.subs(x, a+h))-float(f.subs(x,a)))/h)\n",
    "    \n",
    "interact(diff_quot, a=fixed(1), h= (0.01,1));"
   ]
  },
  {
   "cell_type": "markdown",
   "id": "decimal-leisure",
   "metadata": {
    "slideshow": {
     "slide_type": "subslide"
    }
   },
   "source": [
    "- **Prepare slides!**\n",
    "\n",
    "    [Creating Presentations With Jupyter Notebook](https://rise.readthedocs.io/en/stable/index.html)\n",
    "<br>\n",
    "<br>\n",
    "\n",
    "- Prepare handouts (pdf, ...)\n",
    "- Write books\n",
    "- ..."
   ]
  },
  {
   "cell_type": "markdown",
   "id": "determined-andrews",
   "metadata": {
    "slideshow": {
     "slide_type": "slide"
    }
   },
   "source": [
    "## Possibilities / Advantages\n",
    "\n",
    "- Open source\n",
    "\n",
    "- Authoring and delivery in the **same** platform\n",
    "\n",
    "- Notebook format text-based, easily portable (`Pandoc`, `nbconvert`)\n",
    "\n",
    "- Interactivity\n",
    "\n",
    "- Engagement: students can add cells: \n",
    "    - perform additional computations\n",
    "    - add content\n",
    "\n",
    "    _It is \"their\" document._"
   ]
  },
  {
   "cell_type": "markdown",
   "id": "disabled-doctrine",
   "metadata": {
    "slideshow": {
     "slide_type": "subslide"
    }
   },
   "source": [
    "## Possibilities / Advantages\n",
    "\n",
    "- Ubiquitous platform, becoming de-facto standard in the data science world.\n",
    "\n",
    "- Plenty of tools to pull and analyze data sets in notebooks (e.g. Pandas)\n",
    "\n",
    "- Better data-oriented activities \n"
   ]
  },
  {
   "cell_type": "markdown",
   "id": "competent-freedom",
   "metadata": {
    "slideshow": {
     "slide_type": "subslide"
    }
   },
   "source": [
    "## Possibilities / Advantages\n",
    "\n",
    "- Computational power of Python, Julia, R, ...\n",
    "\n",
    "- Powerful libraries can be utilized: \n",
    "\n",
    "    - Symbolic computation / CAS: `Sympy`\n",
    "    - Numerical computation: `Numpy`\n",
    "    - Graphing: `matplotlib`\n",
    "    - Machine learning: `tensorflow`, `pytorch`, `scikit-learn`\n",
    "    - Data science: `pandas`, `seaborn`"
   ]
  },
  {
   "cell_type": "markdown",
   "id": "dedicated-planet",
   "metadata": {
    "slideshow": {
     "slide_type": "subslide"
    }
   },
   "source": [
    "[<h2 align=\"center\">Sample activity 1</h2>](https://mybinder.org/v2/gh/28left/psumathnotebooks/master?filepath=logistic.ipynb)\n",
    "\n",
    "---"
   ]
  },
  {
   "cell_type": "markdown",
   "id": "fifteen-plasma",
   "metadata": {
    "slideshow": {
     "slide_type": "slide"
    }
   },
   "source": [
    "## Challenges\n",
    "\n",
    "- Coding competency\n",
    "\n",
    "- User interface \n",
    "\n",
    "- Accessibility\n",
    "\n",
    "- Authoring problems for non-programmers\n",
    "\n",
    "- Deployment"
   ]
  },
  {
   "cell_type": "markdown",
   "id": "burning-journalist",
   "metadata": {
    "slideshow": {
     "slide_type": "slide"
    }
   },
   "source": [
    "<h2 align=\"center\">Coding competency</h2>\n",
    "\n",
    "<h2 align=\"center\">User interface</h2>\n",
    "\n",
    "<h2 align=\"center\">Accessibility</h2>"
   ]
  },
  {
   "cell_type": "markdown",
   "id": "affiliated-letter",
   "metadata": {
    "slideshow": {
     "slide_type": "slide"
    }
   },
   "source": [
    "## Advantages of a \"pure\" notebook approach\n",
    "\n",
    "- Better accessibility\n",
    "\n",
    "- Computational mindset\n",
    "\n",
    "- Platform independence: works in Jupyter, VSCode, Google Colaboratory, Nteract, ...\n",
    "\n",
    "- Works also **great on mobile**\n"
   ]
  },
  {
   "cell_type": "markdown",
   "id": "intense-blame",
   "metadata": {
    "slideshow": {
     "slide_type": "slide"
    }
   },
   "source": [
    "## Authoring problems\n",
    "\n",
    "- **`ProblemTool`**: \"Markdown\" for math problems\n",
    "\n",
    "        Type : Free Response\n",
    "            Function f(x) = x^2+x\n",
    "            Function g(x) = f.derv(x)\n",
    "            statement = \"Assume that the function \n",
    "                $f(x) = $ {f(x)}. Find $f'(x)$.\"\n",
    "            solution:  g(x)"
   ]
  },
  {
   "cell_type": "markdown",
   "id": "extraordinary-berkeley",
   "metadata": {
    "slideshow": {
     "slide_type": "slide"
    }
   },
   "source": [
    "## Authoring problems\n",
    "\n",
    "- **`ProblemTool`**: \"Markdown\" for math problems\n",
    "\n",
    "        Type : Multiple Choice\n",
    "            Function two(x) = sin(3*x^2)\n",
    "            Function g(x) = x^3-x^2\n",
    "            Function h(x) = g.derv(x)\n",
    "            statement = \"Assume that the function \n",
    "                $f(x) = $ {g(x)}. \n",
    "                Find $f'(x)$ and the graph of \n",
    "                $g(x) =$ {two(x)}.\"\n",
    "            solution : \n",
    "            ( \n",
    "            # * \"First Solution $f'(x)=$ {h(x)}\"\n",
    "            # \"Second Solution $f'(x)=1$\"\n",
    "            # \"Third Solution  $f'(x)=$ {two(x)}\"\n",
    "            # \"Fourth Solution $f'(x)=$ {g(x)}\"\n",
    "            )"
   ]
  },
  {
   "cell_type": "markdown",
   "id": "young-honduras",
   "metadata": {
    "slideshow": {
     "slide_type": "subslide"
    }
   },
   "source": [
    "## Authoring problems\n",
    "\n",
    "- `Antlr`-based parser translates problem definitions into Python classes that can be pulled directly into Jupyter notebooks, using our Python library `Cyllene`.\n",
    "\n",
    "- Once this is complete, we plan to implement export for other formats:\n",
    "    \n",
    "    - WebAssign (Perl)\n",
    "    - QTI (Canvas quizzes)"
   ]
  },
  {
   "cell_type": "markdown",
   "id": "understood-ground",
   "metadata": {
    "slideshow": {
     "slide_type": "slide"
    }
   },
   "source": [
    "## Deployment\n",
    "\n",
    "- Local install\n",
    "\n",
    "- Docker\n",
    "\n",
    "- Cloud\n",
    "\n",
    "    - All major cloud providers offer some form of Jupyter notebook service.\n",
    "    \n",
    "    - Together with TLT, we are running a `Binder` server for the PSU community\n",
    "    \n",
    "    - `Binder` allows for very easy deployment of notebooks: Paste a link into Canvas.\n",
    "\n"
   ]
  },
  {
   "cell_type": "markdown",
   "id": "earned-gospel",
   "metadata": {
    "slideshow": {
     "slide_type": "slide"
    }
   },
   "source": [
    "<h2 align=\"center\">Questions? Interested?</h2>\n",
    "\n",
    "- Contact me at <jan.reimann@psu.edu>\n",
    "\n",
    "- I can give a more thorough walk-through and add you to our Binder server.\n",
    "\n",
    "- Pilot in Math 110 WC, Fall 2021\n",
    "\n"
   ]
  }
 ],
 "metadata": {
  "celltoolbar": "Slideshow",
  "hide_input": false,
  "kernelspec": {
   "display_name": "Python 3",
   "language": "python",
   "name": "python3"
  },
  "language_info": {
   "codemirror_mode": {
    "name": "ipython",
    "version": 3
   },
   "file_extension": ".py",
   "mimetype": "text/x-python",
   "name": "python",
   "nbconvert_exporter": "python",
   "pygments_lexer": "ipython3",
   "version": "3.8.8"
  }
 },
 "nbformat": 4,
 "nbformat_minor": 5
}
