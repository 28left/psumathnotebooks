{
 "cells": [
  {
   "cell_type": "code",
   "execution_count": 21,
   "id": "7e8fc5f5-7fd5-401e-8c5b-64757593e55d",
   "metadata": {
    "extensions": {
     "jupyter_dashboards": {
      "version": 1,
      "views": {
       "grid_default": {
        "col": null,
        "height": 2,
        "hidden": true,
        "locked": true,
        "row": null,
        "width": 2
       }
      }
     }
    },
    "tags": []
   },
   "outputs": [],
   "source": [
    "import cyllene\n",
    "from cyllene.MathProblems.problem_handler import ProblemHandler\n",
    "from cyllene.user.problem_cmds import make_problem\n",
    "from cyllene.widgets.widgets_problem_basic import MultipleChoiceWidget\n",
    "from cyllene.widgets.widgets_problem_param import MultipleChoiceParameterWidget\n",
    "from cyllene.widgets.vue_problem_basic import VueMultipleChoiceWidget\n",
    "from cyllene.widgets.vue_problem_parameter import VueParameterMultipleChoiceWidget\n",
    "\n",
    "\n",
    "\n",
    "import pandas as pd\n",
    "\n",
    "from sklearn.linear_model import LinearRegression\n",
    "\n",
    "import bqplot.pyplot as plt\n",
    "\n",
    "# import matplotlib.pyplot as plt\n",
    "# from matplotlib.ticker import MultipleLocator, FormatStrFormatter\n",
    "# from matplotlib.ticker import FormatStrFormatter\n",
    "\n",
    "import numpy as np\n",
    "import math\n",
    "from random import shuffle\n",
    "import markdown as md\n",
    "\n",
    "import ipywidgets as widgets\n",
    "from IPython.display import display, clear_output, Markdown, Math\n",
    "\n",
    "plt.close(\"all\")\n",
    "# plt.set_loglevel(\"info\") \n",
    "\n",
    "# suppress debug logging\n",
    "import logging\n",
    "logger = logging.getLogger()\n",
    "logger.setLevel(logging.CRITICAL)"
   ]
  },
  {
   "cell_type": "markdown",
   "id": "e87e2eb9-4abd-447e-92c7-fde201b9eddf",
   "metadata": {
    "extensions": {
     "jupyter_dashboards": {
      "version": 1,
      "views": {
       "grid_default": {
        "col": 0,
        "height": 3,
        "hidden": false,
        "locked": false,
        "row": 0,
        "width": 12
       }
      }
     }
    }
   },
   "source": [
    "## Linear growth"
   ]
  },
  {
   "cell_type": "code",
   "execution_count": 22,
   "id": "b91a6019-a1a5-4260-a19b-2c522919eca9",
   "metadata": {
    "extensions": {
     "jupyter_dashboards": {
      "version": 1,
      "views": {
       "grid_default": {
        "col": null,
        "height": 2,
        "hidden": true,
        "locked": true,
        "row": null,
        "width": 2
       }
      }
     }
    },
    "tags": []
   },
   "outputs": [],
   "source": [
    "data = pd.read_csv(\"life-expectancy_US_Worlds.csv\", index_col=0)"
   ]
  },
  {
   "cell_type": "code",
   "execution_count": 23,
   "id": "60eb6d1e-4804-45a0-b172-0a30d3582639",
   "metadata": {
    "extensions": {
     "jupyter_dashboards": {
      "version": 1,
      "views": {
       "grid_default": {
        "col": null,
        "height": 2,
        "hidden": true,
        "locked": true,
        "row": null,
        "width": 2
       }
      }
     }
    },
    "tags": []
   },
   "outputs": [],
   "source": [
    "x_data = data.index[2:].to_list()\n",
    "y_data = data.iloc[2:,0].to_list()"
   ]
  },
  {
   "cell_type": "code",
   "execution_count": 24,
   "id": "48a18d57-61fc-456d-b229-884ba364e492",
   "metadata": {
    "extensions": {
     "jupyter_dashboards": {
      "version": 1,
      "views": {
       "grid_default": {
        "col": null,
        "height": 2,
        "hidden": true,
        "locked": true,
        "row": null,
        "width": 2
       }
      }
     }
    },
    "tags": []
   },
   "outputs": [],
   "source": [
    "x_array = np.array(x_data).reshape((-1, 1))\n",
    "y_array = np.array(y_data)"
   ]
  },
  {
   "cell_type": "code",
   "execution_count": 25,
   "id": "4cfa35fd-ec40-4c4a-9b95-a7dd5be79883",
   "metadata": {
    "extensions": {
     "jupyter_dashboards": {
      "version": 1,
      "views": {
       "grid_default": {
        "col": null,
        "height": 2,
        "hidden": true,
        "locked": true,
        "row": null,
        "width": 2
       }
      }
     }
    },
    "tags": []
   },
   "outputs": [],
   "source": [
    "model = LinearRegression().fit(x_array, y_array)"
   ]
  },
  {
   "cell_type": "markdown",
   "id": "54265fb7",
   "metadata": {
    "extensions": {
     "jupyter_dashboards": {
      "version": 1,
      "views": {
       "grid_default": {
        "col": 8,
        "height": 3,
        "hidden": false,
        "locked": false,
        "row": 3,
        "width": 4
       }
      }
     }
    }
   },
   "source": [
    "### Modeling the data using a linear function "
   ]
  },
  {
   "cell_type": "markdown",
   "id": "acdc33fd-1fc0-4435-bc96-d35429a18200",
   "metadata": {
    "extensions": {
     "jupyter_dashboards": {
      "version": 1,
      "views": {
       "grid_default": {
        "col": 8,
        "height": 11,
        "hidden": false,
        "locked": false,
        "row": 6,
        "width": 4
       }
      }
     }
    }
   },
   "source": [
    "The graph below shows average US life expectancy for every year between 1901 and 2021 (the red dots). The $x$-axis corresponds to year $1900+x$.\n",
    "\n",
    "Looking at the red dots, you notice that they **follow a linear trend**: with a few exceptions, the points closely follow a straight line. \n",
    "\n",
    "(What are the exceptions (*outliers*) and how would you explain them? In other words, what happened in the US in 1918 and in 2020-21 that had a negative impact on life expectancy?)\n",
    "\n",
    "__*Use the sliders below the graph to match the blue line with the red dots as closely as possible.*__\n",
    "\n",
    "\n",
    "\n"
   ]
  },
  {
   "cell_type": "code",
   "execution_count": 26,
   "id": "ad8df19c-2e0d-498e-96a2-e5e95b9151d6",
   "metadata": {
    "extensions": {
     "jupyter_dashboards": {
      "version": 1,
      "views": {
       "grid_default": {
        "col": 0,
        "height": 18,
        "hidden": false,
        "locked": false,
        "row": 3,
        "width": 8
       }
      }
     }
    },
    "tags": []
   },
   "outputs": [
    {
     "data": {
      "application/vnd.jupyter.widget-view+json": {
       "model_id": "30730abe68cc4edca4533ee0bbe1ec54",
       "version_major": 2,
       "version_minor": 0
      },
      "text/plain": [
       "Output()"
      ]
     },
     "metadata": {},
     "output_type": "display_data"
    },
    {
     "data": {
      "application/vnd.jupyter.widget-view+json": {
       "model_id": "229dba6d08024e67a6606c6832c95e22",
       "version_major": 2,
       "version_minor": 0
      },
      "text/plain": [
       "HBox(children=(FloatSlider(value=40.0, description='Intercept:', max=70.0, min=40.0), FloatSlider(value=0.1047…"
      ]
     },
     "metadata": {},
     "output_type": "display_data"
    }
   ],
   "source": [
    "# Define the linear function\n",
    "def linear_function(x, slope, intercept):\n",
    "    return slope * x + (intercept)\n",
    "\n",
    "x = np.linspace(0,150, 150)\n",
    "y = linear_function(x, (100*model.coef_[0]-15)/100, 40)\n",
    "fig = plt.figure(layout=dict(height=\"500px\", width=\"1000px\"))\n",
    "plt.scatter(range(1,len(y_data)+1),y_data,stroke=\"red\")\n",
    "plt.xlim(0,150)\n",
    "plt.ylim(0,100)\n",
    "plt.xlabel('x')\n",
    "plt.ylabel('y')\n",
    "\n",
    "curve = plt.plot(x=x, y=y, colors=[\"green\"], stroke_width=3)\n",
    "   \n",
    "# update plot\n",
    "def plot_linear_function(slope, intercept):\n",
    "        \n",
    "    with curve.hold_sync():\n",
    "        curve.y = linear_function(x, slope, intercept)\n",
    "\n",
    "slope_slider = widgets.FloatSlider(value=(100*model.coef_[0]-15)/100, min=(100*model.coef_[0]-15)/100, max=(100*model.coef_[0]+15)/100, step=0.01, description='Slope:')\n",
    "intercept_slider = widgets.FloatSlider(value=40, min=40, max=70, step=0.1, description='Intercept:')\n",
    "\n",
    "interactive_plot = widgets.interactive_output(plot_linear_function, {'slope': slope_slider, 'intercept': intercept_slider})\n",
    "output = widgets.Output()\n",
    "\n",
    "with output:\n",
    "    plt.show()\n",
    "    \n",
    "display(output, widgets.HBox([intercept_slider, slope_slider]))\n"
   ]
  },
  {
   "cell_type": "markdown",
   "id": "b197c68a-a8fb-4ad0-9add-a9ab8766ef9e",
   "metadata": {
    "extensions": {
     "jupyter_dashboards": {
      "version": 1,
      "views": {
       "grid_default": {
        "col": null,
        "height": 2,
        "hidden": true,
        "locked": true,
        "row": null,
        "width": 2
       }
      }
     }
    }
   },
   "source": [
    "The blue line now represents a linear function, determined by its **slope** and its **y-intercept**, that **models the data**."
   ]
  },
  {
   "cell_type": "code",
   "execution_count": null,
   "id": "408f02ee-c7f0-4076-ad7a-9f66c21e793e",
   "metadata": {
    "extensions": {
     "jupyter_dashboards": {
      "activeView": "grid_default",
      "views": {
       "grid_default": {
        "col": null,
        "height": 2,
        "hidden": true,
        "locked": true,
        "row": null,
        "width": 2
       }
      }
     }
    }
   },
   "outputs": [],
   "source": []
  }
 ],
 "metadata": {
  "celltoolbar": "Tags",
  "extensions": {
   "jupyter_dashboards": {
    "activeView": "default_view",
    "version": 1,
    "views": {
     "grid_default": {
      "cellMargin": 2,
      "defaultCellHeight": 40,
      "maxColumns": 12,
      "name": "grid",
      "type": "grid"
     }
    }
   }
  },
  "hide_input": false,
  "jupytext": {
   "formats": "ipynb,md"
  },
  "kernelspec": {
   "display_name": "Python 3 (ipykernel)",
   "language": "python",
   "name": "python3"
  },
  "language_info": {
   "codemirror_mode": {
    "name": "ipython",
    "version": 3
   },
   "file_extension": ".py",
   "mimetype": "text/x-python",
   "name": "python",
   "nbconvert_exporter": "python",
   "pygments_lexer": "ipython3",
   "version": "3.11.4"
  }
 },
 "nbformat": 4,
 "nbformat_minor": 5
}
