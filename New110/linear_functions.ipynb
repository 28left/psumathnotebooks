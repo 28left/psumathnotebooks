{
 "cells": [
  {
   "cell_type": "code",
   "execution_count": 17,
   "id": "7e8fc5f5-7fd5-401e-8c5b-64757593e55d",
   "metadata": {},
   "outputs": [],
   "source": [
    "import cyllene\n",
    "from cyllene.MathProblems.problem_handler import ProblemHandler\n",
    "from cyllene.user.problem_cmds import make_problem\n",
    "from cyllene.widgets.widgets_problem_basic import MultipleChoiceWidget\n",
    "from cyllene.widgets.widgets_problem_param import MultipleChoiceParameterWidget\n",
    "\n",
    "\n",
    "import pandas as pd\n",
    "\n",
    "from sklearn.linear_model import LinearRegression\n",
    "\n",
    "import matplotlib.pyplot as plt\n",
    "from matplotlib.ticker import MultipleLocator, FormatStrFormatter\n",
    "from matplotlib.ticker import FormatStrFormatter\n",
    "\n",
    "import numpy as np\n",
    "import math\n",
    "from random import shuffle\n",
    "import markdown as md\n",
    "\n",
    "import ipywidgets as widgets\n",
    "from IPython.display import display, clear_output, Markdown, Math\n",
    "\n",
    "plt.close(\"all\")"
   ]
  },
  {
   "cell_type": "code",
   "execution_count": 2,
   "id": "217ca7fa-f9ad-4299-b88f-7cf8dd019f07",
   "metadata": {
    "tags": []
   },
   "outputs": [],
   "source": [
    "%matplotlib inline"
   ]
  },
  {
   "cell_type": "code",
   "execution_count": 3,
   "id": "68322285-0520-4534-bd5e-309d81a7e1a2",
   "metadata": {
    "tags": []
   },
   "outputs": [],
   "source": [
    "#\n",
    "# Problems\n",
    "#"
   ]
  },
  {
   "cell_type": "code",
   "execution_count": 4,
   "id": "f6f4222d-e1ef-4704-823b-84cfc346cd44",
   "metadata": {
    "tags": []
   },
   "outputs": [],
   "source": [
    "%%makeproblem P1\n",
    "\n",
    "<<Statement>>\n",
    "What does the y-intercept of the line above represent in this context?\n",
    "\n",
    "<<Choices>>\n",
    "- The average life expectancy (in years) of a US citizen in the year 1900\n",
    "- The average life expectancy (in years) of a US citizen in the year 0\n",
    "- The number of US citizens in 1900 (in millions)  \n",
    "- The number of US citizens 56 or older in 1900 (in millions)\n",
    "\n",
    "<<Solution>>\n",
    "The value of the function at $x$ represents average US life expectancy in year $1900+x$. <br>\n",
    "For the y-intercept, we set $x=0$.\n",
    "\n",
    "<<Info>>\n",
    "'tags': [\"linear functions\", \"modeling\"],\n",
    "'title': \"Understanding intercept\",\n",
    "'id': \"linear functions 1\",\n",
    "'solution_title': \"Show Hint\""
   ]
  },
  {
   "cell_type": "code",
   "execution_count": 5,
   "id": "a1aeb462-18e8-4c8b-833f-4859c1030e1f",
   "metadata": {
    "tags": []
   },
   "outputs": [],
   "source": [
    "%%makeproblem P2\n",
    "\n",
    "<<Statement>>\n",
    "Which about the following statements abouyt the slope $m$ of the function is true?\n",
    "\n",
    "<<Choices>>\n",
    "- Every year, US life expectancy increases by $m$ years.\n",
    "- Every twenty years, US life expectancy increases by $m$ years.\n",
    "- Every year, the total US population grows by $m$ million people.   \n",
    "- Every twenty years, the number of US citizens older than 50 increases by $m$ million people.\n",
    "\n",
    "<<Solution>>\n",
    "The slope of a line corresponds directly to its **rate of change**: if $x$ changes by 1 year, the value of the function changes by $m$. The value of the function represents US life expectancy.\n",
    "\n",
    "<<Info>>\n",
    "'tags': [\"linear functions\", \"modeling\"],\n",
    "'title': \"Understanding slope\",\n",
    "'id': \"linear functions 2\",\n",
    "'solution_title': \"Show Hint\""
   ]
  },
  {
   "cell_type": "markdown",
   "id": "e87e2eb9-4abd-447e-92c7-fde201b9eddf",
   "metadata": {
    "tags": []
   },
   "source": [
    "## Linear growth"
   ]
  },
  {
   "cell_type": "code",
   "execution_count": 6,
   "id": "b91a6019-a1a5-4260-a19b-2c522919eca9",
   "metadata": {},
   "outputs": [],
   "source": [
    "data = pd.read_csv(\"life-expectancy_US_Worlds.csv\", index_col=0)"
   ]
  },
  {
   "cell_type": "code",
   "execution_count": 7,
   "id": "60eb6d1e-4804-45a0-b172-0a30d3582639",
   "metadata": {
    "tags": []
   },
   "outputs": [],
   "source": [
    "x_data = data.index[2:].to_list()\n",
    "y_data = data.iloc[2:,0].to_list()"
   ]
  },
  {
   "cell_type": "code",
   "execution_count": 8,
   "id": "48a18d57-61fc-456d-b229-884ba364e492",
   "metadata": {
    "tags": []
   },
   "outputs": [],
   "source": [
    "x_array = np.array(x_data).reshape((-1, 1))\n",
    "y_array = np.array(y_data)"
   ]
  },
  {
   "cell_type": "code",
   "execution_count": 9,
   "id": "4cfa35fd-ec40-4c4a-9b95-a7dd5be79883",
   "metadata": {
    "tags": []
   },
   "outputs": [],
   "source": [
    "model = LinearRegression().fit(x_array, y_array)"
   ]
  },
  {
   "cell_type": "markdown",
   "id": "acdc33fd-1fc0-4435-bc96-d35429a18200",
   "metadata": {
    "tags": []
   },
   "source": [
    "### Modeling the data using a linear function \n",
    "\n",
    "The graph below shows average US life expectancy for every year between 1901 and 2021 (the red dots). The $x$-axis corresponds to year $1900+x$.\n",
    "\n",
    "Looking at the red dots, you notice that they **follow a linear trend**: with a few exceptions, the points closely follow a straight line. \n",
    "\n",
    "(What are the exceptions (*outliers*) and how would you explain them? In other words, what happened in the US in 1918 and in 2020-21 that had a negative impact on life expectancy?)\n",
    "\n",
    "__*Use the sliders below the graph to match the blue line with the red dots as closely as possible.*__\n",
    "\n",
    "\n",
    "\n"
   ]
  },
  {
   "cell_type": "code",
   "execution_count": 10,
   "id": "ad8df19c-2e0d-498e-96a2-e5e95b9151d6",
   "metadata": {
    "tags": []
   },
   "outputs": [
    {
     "data": {
      "application/vnd.jupyter.widget-view+json": {
       "model_id": "96e996d372c74d50a5a9cf4fb73ef462",
       "version_major": 2,
       "version_minor": 0
      },
      "text/plain": [
       "Output()"
      ]
     },
     "metadata": {},
     "output_type": "display_data"
    },
    {
     "data": {
      "application/vnd.jupyter.widget-view+json": {
       "model_id": "1909ce0cf6f84b70832f9f0c47dabc6d",
       "version_major": 2,
       "version_minor": 0
      },
      "text/plain": [
       "HBox(children=(FloatSlider(value=40.0, description='Intercept:', max=70.0, min=40.0), FloatSlider(value=0.1047…"
      ]
     },
     "metadata": {},
     "output_type": "display_data"
    }
   ],
   "source": [
    "# Define the linear function\n",
    "def linear_function(x, slope, intercept):\n",
    "    return slope * x + (intercept)\n",
    "\n",
    "# Create the interactive widget\n",
    "def plot_linear_function(slope, intercept):\n",
    "    x = np.linspace(0,150, 150)\n",
    "    y = linear_function(x, slope, intercept)\n",
    "\n",
    "    plt.figure(figsize=(8, 6))\n",
    "    plt.scatter(range(1,len(y_data)+1),y_data,label=\"Real data\",color=\"red\", s=2)\n",
    "    plt.plot(x, y)\n",
    "    plt.xlim(0,150)\n",
    "    plt.ylim(0, 100)\n",
    "    plt.xlabel('x')\n",
    "    plt.ylabel('y')\n",
    "    plt.grid(True)\n",
    "\n",
    "slope_slider = widgets.FloatSlider(value=(100*model.coef_[0]-15)/100, min=(100*model.coef_[0]-15)/100, max=(100*model.coef_[0]+15)/100, step=0.01, description='Slope:')\n",
    "intercept_slider = widgets.FloatSlider(value=40, min=40, max=70, step=0.1, description='Intercept:')\n",
    "\n",
    "interactive_plot = widgets.interactive_output(plot_linear_function, {'slope': slope_slider, 'intercept': intercept_slider})\n",
    "display(interactive_plot, widgets.HBox([intercept_slider, slope_slider]))\n"
   ]
  },
  {
   "cell_type": "markdown",
   "id": "b197c68a-a8fb-4ad0-9add-a9ab8766ef9e",
   "metadata": {},
   "source": [
    "The blue line now represents a linear function, determined by its **slope** and its **y-intercept**, that **models the data**."
   ]
  },
  {
   "cell_type": "markdown",
   "id": "1509f465-57d7-4f83-8028-201bad917ccf",
   "metadata": {},
   "source": [
    "---\n",
    "### Interpreting the model"
   ]
  },
  {
   "cell_type": "code",
   "execution_count": 11,
   "id": "1d7d8cde-8d8f-4261-b237-6752a5e89ba2",
   "metadata": {
    "tags": []
   },
   "outputs": [
    {
     "data": {
      "application/vnd.jupyter.widget-view+json": {
       "model_id": "92d81c6c04164d808884c9c38566e4a8",
       "version_major": 2,
       "version_minor": 0
      },
      "text/plain": [
       "VBox(children=(Output(), Output()))"
      ]
     },
     "metadata": {},
     "output_type": "display_data"
    },
    {
     "data": {
      "application/vnd.jupyter.widget-view+json": {
       "model_id": "b17a467638b744558c8120472c952ba0",
       "version_major": 2,
       "version_minor": 0
      },
      "text/plain": [
       "VBox(children=(Output(), HBox(children=(Button(button_style='primary', description='( 1 )', layout=Layout(flex…"
      ]
     },
     "metadata": {},
     "output_type": "display_data"
    },
    {
     "data": {
      "application/vnd.jupyter.widget-view+json": {
       "model_id": "ca6f2277edd543fa8e2227dcf299990c",
       "version_major": 2,
       "version_minor": 0
      },
      "text/plain": [
       "Accordion(children=(Output(),), titles=('Show Hint',))"
      ]
     },
     "metadata": {},
     "output_type": "display_data"
    }
   ],
   "source": [
    "%showproblem P1"
   ]
  },
  {
   "cell_type": "markdown",
   "id": "0e0ed1aa-aa08-476a-b84d-a6dc4189e6fd",
   "metadata": {},
   "source": [
    "---"
   ]
  },
  {
   "cell_type": "code",
   "execution_count": 12,
   "id": "dd941b17-c8ee-4dde-9008-3a9621141904",
   "metadata": {
    "tags": []
   },
   "outputs": [
    {
     "data": {
      "application/vnd.jupyter.widget-view+json": {
       "model_id": "6e501d29276f44c8aa03afc5585aabd4",
       "version_major": 2,
       "version_minor": 0
      },
      "text/plain": [
       "VBox(children=(Output(), Output()))"
      ]
     },
     "metadata": {},
     "output_type": "display_data"
    },
    {
     "data": {
      "application/vnd.jupyter.widget-view+json": {
       "model_id": "86b7f390281c417b985118f5131cca4d",
       "version_major": 2,
       "version_minor": 0
      },
      "text/plain": [
       "VBox(children=(Output(), HBox(children=(Button(button_style='primary', description='( 1 )', layout=Layout(flex…"
      ]
     },
     "metadata": {},
     "output_type": "display_data"
    },
    {
     "data": {
      "application/vnd.jupyter.widget-view+json": {
       "model_id": "b3c931cf7b90484e99b365efa7eced29",
       "version_major": 2,
       "version_minor": 0
      },
      "text/plain": [
       "Accordion(children=(Output(),), titles=('Show Hint',))"
      ]
     },
     "metadata": {},
     "output_type": "display_data"
    }
   ],
   "source": [
    "%showproblem P2"
   ]
  },
  {
   "cell_type": "markdown",
   "id": "9006deef-2d16-4c61-be36-acbf275f5137",
   "metadata": {},
   "source": [
    "---"
   ]
  },
  {
   "cell_type": "markdown",
   "id": "b3a3284d-dc56-4db3-b822-6cbf26894747",
   "metadata": {},
   "source": [
    "### Applying the model\n",
    "\n",
    "Now consider the linear model alone, without the actual data. We want to use it to make predictions about the future average life expectancy of the US population. Click '**Start**' below to launch the activity."
   ]
  },
  {
   "cell_type": "code",
   "execution_count": 13,
   "id": "0152f0d1-d61f-455f-888c-a919fbbdac13",
   "metadata": {
    "tags": []
   },
   "outputs": [],
   "source": [
    "%%makeproblem P3\n",
    "<<Parameters>>\n",
    "\n",
    "<<Statement>>\n",
    "*According to the model, what is the estimated US life expectancy in 2040?*\n",
    "\n",
    "<<Choices>>\n",
    "- @{round(140*slope_slider.value+intercept_slider.value,2)}\n",
    "- @{round(140*slope_slider.value+intercept_slider.value-5,2)}\n",
    "- @{round(140*slope_slider.value+intercept_slider.value+15,2)}\n",
    "- 140.00\n",
    "\n",
    "<<Solution>>\n",
    "The slope of a line corresponds directly to its **rate of change**: if $x$ changes by 1 year, the value of the function changes by $m$. The value of the function represents US life expectancy.\n",
    "\n",
    "<<Info>>\n",
    "'tags': [\"linear functions\", \"modeling\"],\n",
    "'title': \"Try it yourself\",\n",
    "'id': \"linear functions 3\",\n",
    "'solution_title': \"Show Hint\""
   ]
  },
  {
   "cell_type": "code",
   "execution_count": 14,
   "id": "0af083c6-131e-4bfd-83b4-fccebe6128c6",
   "metadata": {
    "tags": []
   },
   "outputs": [],
   "source": [
    "%%makeproblem P4\n",
    "<<Parameters>>\n",
    "'A': 'pickone(90,100,110,120)'\n",
    "\n",
    "<<Statement>>\n",
    "*According to the model, when does US life expectancy reach @{A} years?*\n",
    "\n",
    "<<Choices>>\n",
    "- @{math.floor((A-intercept_slider.value)/slope_slider.value)+1900}\n",
    "- @{math.floor(((A-10)-intercept_slider.value)/slope_slider.value)+1900}\n",
    "- @{math.floor(A*slope_slider.value+intercept_slider.value)+1900}\n",
    "- @{math.floor((A+30)*slope_slider.value+intercept_slider.value)+1900}\n",
    "\n",
    "<<Solution>>\n",
    "You need to solve $@{A} = \\text{slope}*x + \\text{intercept}$ for $x$.\n",
    "\n",
    "<<Info>>\n",
    "'tags': [\"linear functions\", \"modeling\"],\n",
    "'title': \"Try it yourself\",\n",
    "'id': \"linear functions 4\",\n",
    "'solution_title': \"Show Hint\""
   ]
  },
  {
   "cell_type": "code",
   "execution_count": 20,
   "id": "5b7fa7d4-4caf-4615-982b-1c020582ef44",
   "metadata": {
    "tags": []
   },
   "outputs": [],
   "source": [
    "launch_button = widgets.Button(description=\"Start\",\n",
    "                               button_style='success', \n",
    "                               tooltip='Start Activity')\n",
    "center_layout = widgets.Layout(display='flex',\n",
    "                flex_flow='column',\n",
    "                align_items='center',\n",
    "                width='100%')\n",
    "center_button = widgets.HBox(children=[launch_button],layout=center_layout)\n",
    "\n",
    "\n",
    "out_1 = widgets.Output()\n",
    "\n",
    "\n",
    "#     ax.xaxis.set_major_formatter(FormatStrFormatter('%i'))\n",
    "#     xticks = ax.xaxis.get_major_ticks()\n",
    "#     for i,l in enumerate(xticks):\n",
    "#         if not (i - 1) % 4 == 0:\n",
    "#             xticks[i].label1.set_visible(False)\n",
    "#         else:\n",
    "#             xticks[i].label1.set_fontsize(_fontsize)\n",
    "\n",
    "#     ax.yaxis.set_major_formatter(FormatStrFormatter('%i'))\n",
    "#     yticks = ax.yaxis.get_major_ticks()\n",
    "#     for i,l in enumerate(yticks):\n",
    "#         if not (i - 1) % 4 == 0:\n",
    "#             yticks[i].label1.set_visible(False)\n",
    "#         else:\n",
    "#             yticks[i].label1.set_fontsize(_fontsize)    \n",
    "    \n",
    "        \n",
    "        \n",
    "#     plt.figure(figsize=(10, 6))\n",
    "\n",
    "#     plt.plot(x, y)\n",
    "#     plt.plot(x[129], y[129] , 'ro')\n",
    "#     plt.xlim(0,150)\n",
    "#     plt.ylim(0, 100)\n",
    "#     plt.xticks(np.arange(0, 150, step=10))\n",
    "#     plt.yticks(np.arange(0, 100, step=10))\n",
    "#     plt.xlabel('x')\n",
    "#     plt.ylabel('y')\n",
    "#     plt.grid(True)\n",
    "    \n",
    "    \n",
    "# interactive_solo_plot = widgets.interactive_output(plot_linear_w_grid, {'slope': slope_slider, 'intercept': intercept_slider})\n",
    "# display(interactive_solo_plot)\n",
    "\n",
    "# estimate = widgets.Label(value=\"Estimated US life expectancy in 1930 = \" + str(linear_function(129,slope,intercept)))\n",
    "    \n",
    "# def print_estimate(slope, intercept):\n",
    "#     display(Markdown(\"Estimated US life expectancy in 2030: **\" + str(round(linear_function(130,slope,intercept),2)) + \" years**\"))\n",
    "    \n",
    "# interactive_estimate = widgets.interactive_output(print_estimate, {'slope': slope_slider, 'intercept': intercept_slider})\n",
    "# display(interactive_estimate)\n",
    "\n",
    "def on_launch(b):\n",
    "    \n",
    "    # Fix sliders and deactivate\n",
    "    slope_slider.disabled = True\n",
    "    intercept_slider.disabled = True\n",
    "    slope = slope_slider.value\n",
    "    intercept = intercept_slider.value\n",
    "    \n",
    "    # Fix display strings\n",
    "    out_1_text_0 = \"\"\"#### The model\n",
    "\n",
    "Using the sliders above, you fixed _slope_ = {0} and _intercept_ = {1}, \n",
    "giving a linear function\n",
    "\n",
    "$$y = {2} x + {3}$$\n",
    "\"\"\".format(str(round(slope,2)), str(intercept), str(round(slope,2)), str(intercept))\n",
    "\n",
    "    out_1_text_1 = \"\"\"#### Estimating future life expectancy\n",
    "\n",
    "For example, we would like to estimate the average life expectancy in 2030. \n",
    "For this purpose, we use the value of our model at $x=130$ \n",
    "(keep in mind that $x=0$ corresponds to the year 1900).\n",
    "    \"\"\"\n",
    "\n",
    "    out_1_text_2 = \"\"\"#### Estimating life expectancy milestones \n",
    "\n",
    "Similary, we can use the model to approximate when life expectancy crosses a \n",
    "certain threshold. For example, to estimate how long it will take life expectancy \n",
    "to reach 80 years, we have to find $x$ for which the model assumes the value $80$. \n",
    "<br><br>\n",
    "\n",
    "<b>In the graph</b>, that corresponds to finding the $x$ at which the line intersection \n",
    "the horizontal line at $y=80$.\n",
    "<br><br>\n",
    "\n",
    "<b>Algebraically</b>, it means solving $80 = {0} x + {1}$, which yields $x \\\\approx {2}$ \n",
    "In other words, your linear model estimates that US life expectancy first reaches \n",
    "80 years in the year {3}. Compare this to the graph above.\n",
    "\"\"\".format(str(round(slope,2)), \n",
    "               str(intercept),  \n",
    "               str(round((80-intercept)/slope,2)), \n",
    "               str(math.floor((80-intercept)/slope)+1900)) \n",
    "\n",
    "    # show activity\n",
    "    with out_1:\n",
    "        clear_output()\n",
    "\n",
    "        display(widgets.HTMLMath(md.markdown(out_1_text_0)))\n",
    "\n",
    "        display(widgets.HTMLMath(md.markdown(out_1_text_1)))\n",
    "        \n",
    "        #\n",
    "        # BEGIN: Plot model in extended grid\n",
    "        #\n",
    "        DP = 2\n",
    "\n",
    "        x = np.linspace(0,160, 160)\n",
    "        y = linear_function(x, slope, intercept)\n",
    "\n",
    "        fig = plt.figure(figsize=(8, 6), dpi=100, facecolor='w', edgecolor='k')\n",
    "        fig.canvas.draw()\n",
    "        ax = plt.gca()\n",
    "\n",
    "        # set up axis\n",
    "        ax.spines['left'].set_position('zero')\n",
    "        ax.spines['right'].set_color('none')\n",
    "        ax.spines['bottom'].set_position('zero')\n",
    "        ax.spines['top'].set_color('none')\n",
    "        ax.xaxis.set_ticks_position('bottom')\n",
    "        ax.yaxis.set_ticks_position('left')\n",
    "\n",
    "        # draw curve\n",
    "        line, = ax.plot(x, y)\n",
    "\n",
    "        # mark point\n",
    "        ax.plot(x[129], y[129] , 'ro')\n",
    "\n",
    "        # set bounds\n",
    "        ax.set_xbound(0,160)\n",
    "        ax.set_ybound(0,100)\n",
    "\n",
    "        # format axes and grid\n",
    "        ax.xaxis.set_major_locator(MultipleLocator(10))\n",
    "        ax.yaxis.set_major_locator(MultipleLocator(10))\n",
    "        ax.xaxis.grid(True,'major',linewidth=2/DP,linestyle='-',color='#d7d7d7',zorder=0)\n",
    "        ax.yaxis.grid(True,'major',linewidth=2/DP,linestyle='-',color='#d7d7d7')\n",
    "\n",
    "        ax.xaxis.set_minor_locator(MultipleLocator(2))\n",
    "        ax.yaxis.set_minor_locator(MultipleLocator(2))\n",
    "        ax.xaxis.grid(True,'minor',linewidth=0.5/DP,linestyle='-',color='#d7d7d7')\n",
    "        ax.yaxis.grid(True,'minor',linewidth=0.5/DP,linestyle='-',color='#d7d7d7')\n",
    "\n",
    "        ax.set_axisbelow(True)\n",
    "        ax.set_aspect('equal')\n",
    "        \n",
    "        plt.show(fig)\n",
    "        \n",
    "        #\n",
    "        # END plot\n",
    "        #\n",
    "    \n",
    "        # Show calculated estimate\n",
    "        display(Markdown(\"Estimated US life expectancy in 2030: **\" + str(round(linear_function(130,slope,intercept),2)) + \" years**\"))\n",
    "    \n",
    "        # Try yourself multiple choice\n",
    "        P3 = cyllene.ProbStack.stack[\"P3\"]\n",
    "        M3 = MultipleChoiceWidget(P3.get_problem())\n",
    "        M3.show()\n",
    "        \n",
    "        # estimating milestones\n",
    "        display(widgets.HTMLMath(md.markdown(out_1_text_2)))\n",
    "        \n",
    "        # Try it yourself\n",
    "        P4 = cyllene.ProbStack.stack[\"P4\"]\n",
    "        M4 = MultipleChoiceParameterWidget(P4)\n",
    "        M4.show()\n",
    "\n",
    "        \n",
    "launch_button.on_click(on_launch)\n",
    "    \n",
    "\n"
   ]
  },
  {
   "cell_type": "code",
   "execution_count": 92,
   "id": "eac8c004-9889-46a9-ae75-b9508e77aba9",
   "metadata": {
    "tags": []
   },
   "outputs": [
    {
     "data": {
      "application/vnd.jupyter.widget-view+json": {
       "model_id": "e74938273fd54a598cc825a4c3d0f4b4",
       "version_major": 2,
       "version_minor": 0
      },
      "text/plain": [
       "HBox(children=(Button(button_style='success', description='Start', style=ButtonStyle(), tooltip='Start Activit…"
      ]
     },
     "metadata": {},
     "output_type": "display_data"
    }
   ],
   "source": [
    "display(center_button)"
   ]
  },
  {
   "cell_type": "code",
   "execution_count": 93,
   "id": "69a24514-3c8e-42fe-ba2c-e30c2ff4c618",
   "metadata": {
    "tags": []
   },
   "outputs": [
    {
     "data": {
      "application/vnd.jupyter.widget-view+json": {
       "model_id": "d0ab33033bec4dc4848328638cef29fa",
       "version_major": 2,
       "version_minor": 0
      },
      "text/plain": [
       "Output()"
      ]
     },
     "metadata": {},
     "output_type": "display_data"
    }
   ],
   "source": [
    "display(out_1)"
   ]
  },
  {
   "cell_type": "markdown",
   "id": "a51e6c7c-cc9f-4a06-ae98-eddcea50e5b4",
   "metadata": {},
   "source": [
    "---\n",
    "## Outline"
   ]
  },
  {
   "cell_type": "markdown",
   "id": "d92b1078-ddda-4d09-9d31-1415d65af5fc",
   "metadata": {
    "tags": []
   },
   "source": [
    "Brief review linear functions"
   ]
  },
  {
   "cell_type": "markdown",
   "id": "5197c676-9c97-47ff-a6d2-be21be2956c5",
   "metadata": {},
   "source": [
    "Question: What does the y-intercept (value) represent here?"
   ]
  },
  {
   "cell_type": "markdown",
   "id": "a7ee0a3c-31fd-47c4-8dcc-e22b8a06df2f",
   "metadata": {},
   "source": [
    "Multiple choice\n",
    "\n",
    "(Explanation on submit; hint if they miss)"
   ]
  },
  {
   "cell_type": "markdown",
   "id": "781c507f-4c80-454a-8477-fa10ca36d714",
   "metadata": {},
   "source": [
    "Question: What does the slope represent?"
   ]
  },
  {
   "cell_type": "markdown",
   "id": "e82d38d2-01c0-43b1-8095-dec8425085a6",
   "metadata": {},
   "source": [
    "Application: Use model to estimate (extrapolate etc)\n",
    "\n",
    "- 1 example for each question\n",
    "- then student tries the other cases (multiple choice) \n",
    "- feedback graph on submit"
   ]
  },
  {
   "cell_type": "markdown",
   "id": "742387ad-c7eb-41a9-87a0-21638fe1e86a",
   "metadata": {},
   "source": [
    "Now encourage to go back and change the model, and and do the estimates again\n",
    "\n",
    "- show graph again (restrict data set)\n",
    "- keep flow linear"
   ]
  },
  {
   "cell_type": "markdown",
   "id": "5f6c28de-e6b7-46b3-8d21-93849e30abf9",
   "metadata": {},
   "source": [
    "Finish with average rate of change\n",
    "\n",
    "- quick summary quiz"
   ]
  }
 ],
 "metadata": {
  "jupytext": {
   "formats": "ipynb,md"
  },
  "kernelspec": {
   "display_name": "Python 3 (ipykernel)",
   "language": "python",
   "name": "python3"
  },
  "language_info": {
   "codemirror_mode": {
    "name": "ipython",
    "version": 3
   },
   "file_extension": ".py",
   "mimetype": "text/x-python",
   "name": "python",
   "nbconvert_exporter": "python",
   "pygments_lexer": "ipython3",
   "version": "3.10.12"
  }
 },
 "nbformat": 4,
 "nbformat_minor": 5
}
