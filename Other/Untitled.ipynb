{
 "cells": [
  {
   "cell_type": "code",
   "execution_count": 1,
   "id": "8c4af7c5",
   "metadata": {},
   "outputs": [],
   "source": [
    "s=\"\"\"\n",
    "a = 34\n",
    "if a==3: print(\"Yes\")\n",
    "\"\"\""
   ]
  },
  {
   "cell_type": "code",
   "execution_count": 2,
   "id": "8763ce5d",
   "metadata": {},
   "outputs": [
    {
     "name": "stdout",
     "output_type": "stream",
     "text": [
      "Yes\n"
     ]
    }
   ],
   "source": [
    "exec(s)"
   ]
  },
  {
   "cell_type": "code",
   "execution_count": 3,
   "id": "94bcb9b9",
   "metadata": {},
   "outputs": [],
   "source": [
    "import cyllene\n",
    "from cyllene.user.problem_cmds import parse_webassign"
   ]
  },
  {
   "cell_type": "code",
   "execution_count": 6,
   "id": "65a98358",
   "metadata": {},
   "outputs": [],
   "source": [
    "%%makeproblem -wa 3418886\n",
    "Question\n",
    "<eqn>\n",
    "A = randnum(3,5,1);\n",
    "B = A*randnum(2,4,1) + randnum(-1,1,2);\n",
    "n = pickone(4,5,7,8);\n",
    "nn = n - 1;\n",
    "m = randnum(3,6,1,n); \n",
    "mm = m - 1; \n",
    "mmm = m+1;\n",
    "ERRS = pick(7,-10,-9,-8,-7,-6,-5,-4,-3,-2,-1,1,2,3,4,5,6,7,8,9,10);\n",
    "EQNS = [A, n, m*A, 2*m, A*n, n*B, A*(n - m), n*B + ERRS[0], A*(n - m) + ERRS[1], n*B + ERRS[2], A*(n - m) + ERRS[3], n*B + ERRS[4], A*(n - m) + ERRS[6]];\n",
    "''</eqn>\n",
    "\n",
    "<watex>\n",
    "Given the function \\[f(x) = \\dfrac{x^{$n}}{(${A}x + $B)^{$m}},\\] find its derivative \\[f'(x)\\].\n",
    "</watex>\n",
    "\n",
    "<_>\n",
    "\n",
    "Answer\n",
    "<watex>\\[\\dfrac{x^{$nn}($EQNS[6]x + $EQNS[5])}{($EQNS[0]x + $B)^{$mmm}}\\]</watex>\n",
    "<watex>\\[\\dfrac{$EQNS[5]x^{$nn}}{($EQNS[0]x + $B)^{$mmm}}\\]</watex>\n",
    "<watex>\\[\\dfrac{x^{$nn}($EQNS[8]x + $EQNS[7])}{($EQNS[0]x + $B)^{$mmm}}\\]</watex>\n",
    "<watex>\\[\\dfrac{$EQNS[10]x + $EQNS[9]}{($EQNS[0]x + $B)^{$mmm}}\\]</watex>\n",
    "<watex>\\[\\dfrac{x^{$nn}($EQNS[12]x + $EQNS[11])}{($EQNS[0]x + $B)^{$mmm}}\\]</watex>\n",
    "\n",
    "\n",
    "Solution\n",
    "<watex>\n",
    "Start by using the quotient rule to compute the derivative of \\[f(x) = \\dfrac{x^{$n}}{($EQNS[0]x + $B)^{$m}}\\]:\n",
    "<br><br>\n",
    "<center>\\[ \n",
    "f'(x)   = \\dfrac{$EQNS[1]x^{$nn}($EQNS[0]x + $B)^{$m} - x^{$n}\\cdot$m($EQNS[0]x + $B)^{$mm}\\cdot$EQNS[0]}{[($EQNS[0]x + $B)^{$m}]^2} \n",
    " = \\dfrac{$EQNS[1]x^{$nn}($EQNS[0]x + $B)^{$m} - $EQNS[2]x^{$n}($EQNS[0]x + $B)^{$mm}}{($EQNS[0]x+$B)^{$EQNS[3]}} \n",
    "\\]</center> \n",
    "<br>\n",
    "Note the factor of \\[$A\\], which is the derivative of \\[${A}x + $B\\], that shows up in the second term of the numerator as a result of applying the chain rule.  Now simplify the numerator by pulling out the common factors of \\[x^{$nn}\\] and \\[(${A}x + $B)^{$mm}\\]:\n",
    "<br><br>\n",
    "<center>\\[\n",
    "f'(x)  = \\dfrac{x^{$nn}($EQNS[0]x + $B)^{$mm}[$EQNS[1]($EQNS[0]x + $B) - $EQNS[2]x]}{($EQNS[0]x + $B)^{$EQNS[3]}}\n",
    "= \\dfrac{x^{$nn}($EQNS[0]x + $B)^{$mm}[$EQNS[4]x + $EQNS[5] - $EQNS[2]x]}{($EQNS[0]x + $B)^{$EQNS[3]}}\n",
    "= \\dfrac{x^{$nn}($EQNS[6]x + $EQNS[5])}{($EQNS[0]x + $B)^{$mmm}}\n",
    "\\]</center> \n",
    "</watex>\n",
    "\n",
    "Info\n",
    "'tags': [\"derivative\", \"chain rule\"],\n",
    "'title': \"Find derivative\",\n",
    "'id': \"3418886\""
   ]
  },
  {
   "cell_type": "code",
   "execution_count": 9,
   "id": "d42a4682",
   "metadata": {},
   "outputs": [
    {
     "data": {
      "application/vnd.jupyter.widget-view+json": {
       "model_id": "e59e27ef0f25409aad59b71d07cf8712",
       "version_major": 2,
       "version_minor": 0
      },
      "text/plain": [
       "VBox(children=(Output(), Button(description='New Version', style=ButtonStyle())))"
      ]
     },
     "metadata": {},
     "output_type": "display_data"
    },
    {
     "data": {
      "application/vnd.jupyter.widget-view+json": {
       "model_id": "b0cd0c33b63c487facacbcfc364e8f01",
       "version_major": 2,
       "version_minor": 0
      },
      "text/plain": [
       "Output()"
      ]
     },
     "metadata": {},
     "output_type": "display_data"
    },
    {
     "data": {
      "application/vnd.jupyter.widget-view+json": {
       "model_id": "70b3e6645f9f48899f4857300f6bde2c",
       "version_major": 2,
       "version_minor": 0
      },
      "text/plain": [
       "VBox(children=(HBox(children=(Button(button_style='primary', description='( 1 )', layout=Layout(flex='1 1 auto…"
      ]
     },
     "metadata": {},
     "output_type": "display_data"
    }
   ],
   "source": [
    "%showproblem 3418886"
   ]
  },
  {
   "cell_type": "code",
   "execution_count": 7,
   "id": "fa6fc10d",
   "metadata": {},
   "outputs": [],
   "source": [
    "P = cyllene.ProbStack.stack['3418886']"
   ]
  },
  {
   "cell_type": "code",
   "execution_count": 8,
   "id": "89d3a48b",
   "metadata": {},
   "outputs": [
    {
     "data": {
      "text/plain": [
       "{'problem_id': '3418886',\n",
       " 'title': 'Find derivative',\n",
       " 'statement': \"Given the function $f(x) = \\\\dfrac{x^{@{n}}}{(@{A}x + @{B})^{@{m}}},$ find its derivative $f'(x)$.\",\n",
       " 'answer': '$\\\\dfrac{x^{@{nn}}(@{EQNS}[6]x + @{EQNS}[5])}{(@{EQNS}[0]x + @{B})^{@{mmm}}}$',\n",
       " 'solution': 'Start by using the quotient rule to compute the derivative of $f(x) = \\\\dfrac{x^{@{n}}}{(@{EQNS}[0]x + @{B})^{@{m}}}$:<br><br><p style=\"text-align:center\">$f\\'(x)   = \\\\dfrac{@{EQNS}[1]x^{@{nn}}(@{EQNS}[0]x + @{B})^{@{m}} - x^{@{n}}\\\\cdot@{m}(@{EQNS}[0]x + @{B})^{@{mm}}\\\\cdot@{EQNS}[0]}{[(@{EQNS}[0]x + @{B})^{@{m}}]^2}  = \\\\dfrac{@{EQNS}[1]x^{@{nn}}(@{EQNS}[0]x + @{B})^{@{m}} - @{EQNS}[2]x^{@{n}}(@{EQNS}[0]x + @{B})^{@{mm}}}{(@{EQNS}[0]x+@{B})^{@{EQNS}[3]}}$</p> <br>Note the factor of $@{A}$, which is the derivative of $@{A}x + @{B}$, that shows up in the second term of the numerator as a result of applying the chain rule.  Now simplify the numerator by pulling out the common factors of $x^{@{nn}}$ and $(@{A}x + @{B})^{@{mm}}$:<br><br><p style=\"text-align:center\">$f\\'(x)  = \\\\dfrac{x^{@{nn}}(@{EQNS}[0]x + @{B})^{@{mm}}[@{EQNS}[1](@{EQNS}[0]x + @{B}) - @{EQNS}[2]x]}{(@{EQNS}[0]x + @{B})^{@{EQNS}[3]}}= \\\\dfrac{x^{@{nn}}(@{EQNS}[0]x + @{B})^{@{mm}}[@{EQNS}[4]x + @{EQNS}[5] - @{EQNS}[2]x]}{(@{EQNS}[0]x + @{B})^{@{EQNS}[3]}}= \\\\dfrac{x^{@{nn}}(@{EQNS}[6]x + @{EQNS}[5])}{(@{EQNS}[0]x + @{B})^{@{mmm}}}$</p>',\n",
       " 'tags': ['derivative', 'chain rule'],\n",
       " 'flags': {},\n",
       " 'parameters': {'code': 'A = randnum(3,5,1);B = A*randnum(2,4,1) + randnum(-1,1,2);n = pickone(4,5,7,8);nn = n - 1;m = randnum(3,6,1,n); mm = m - 1; mmm = m+1;ERRS = pick(7,-10,-9,-8,-7,-6,-5,-4,-3,-2,-1,1,2,3,4,5,6,7,8,9,10);EQNS = [A, n, m*A, 2*m, A*n, n*B, A*(n - m), n*B + ERRS[0], A*(n - m) + ERRS[1], n*B + ERRS[2], A*(n - m) + ERRS[3], n*B + ERRS[4], A*(n - m) + ERRS[6]];'},\n",
       " 'user_vars': {'a': 3,\n",
       "  'cyllene': <module 'cyllene' from '/Users/janreimann/miniforge3/envs/test/lib/python3.11/site-packages/cyllene/__init__.py'>,\n",
       "  'parse_webassign': <function cyllene.ProblemParser.parser_webassign_new.parse_webassign(instring: str) -> dict>,\n",
       "  's': '\\na = 3\\nif a==3: print(\"Yes\")\\n'},\n",
       " 'value_dict': {},\n",
       " 'instantiated_statement': '',\n",
       " 'instantiated_answer': '',\n",
       " 'instantiated_solution': '',\n",
       " 'instantiated_dict': {},\n",
       " 'keys': ['statement',\n",
       "  'answer',\n",
       "  'choices',\n",
       "  'problem_id',\n",
       "  'solution',\n",
       "  'tags',\n",
       "  'title',\n",
       "  'parameters'],\n",
       " 'choices': ['$\\\\dfrac{x^{@{nn}}(@{EQNS}[6]x + @{EQNS}[5])}{(@{EQNS}[0]x + @{B})^{@{mmm}}}$',\n",
       "  '$\\\\dfrac{@{EQNS}[5]x^{@{nn}}}{(@{EQNS}[0]x + @{B})^{@{mmm}}}$',\n",
       "  '$\\\\dfrac{x^{@{nn}}(@{EQNS}[8]x + @{EQNS}[7])}{(@{EQNS}[0]x + @{B})^{@{mmm}}}$',\n",
       "  '$\\\\dfrac{@{EQNS}[10]x + @{EQNS}[9]}{(@{EQNS}[0]x + @{B})^{@{mmm}}}$',\n",
       "  '$\\\\dfrac{x^{@{nn}}(@{EQNS}[12]x + @{EQNS}[11])}{(@{EQNS}[0]x + @{B})^{@{mmm}}}$']}"
      ]
     },
     "execution_count": 8,
     "metadata": {},
     "output_type": "execute_result"
    }
   ],
   "source": [
    "P.__dict__"
   ]
  },
  {
   "cell_type": "code",
   "execution_count": 15,
   "id": "7bb1fdd3",
   "metadata": {},
   "outputs": [],
   "source": [
    "t = t['code']"
   ]
  },
  {
   "cell_type": "code",
   "execution_count": 24,
   "id": "7bed14a1",
   "metadata": {},
   "outputs": [],
   "source": [
    "A=2"
   ]
  },
  {
   "cell_type": "code",
   "execution_count": 40,
   "id": "c9e2a117",
   "metadata": {},
   "outputs": [],
   "source": [
    "exec('n = 2 if A==3 else None;n = 2 if A==4 else None;')"
   ]
  },
  {
   "cell_type": "code",
   "execution_count": 30,
   "id": "8a6ba06f",
   "metadata": {},
   "outputs": [],
   "source": [
    "t = '''\n",
    "A = randnum(3,5,1);\n",
    "B = A*randnum(2,4,1) + randnum(-1,1,2);\n",
    "if A == 3:\n",
    "    n = pickone(4,5,7,8);\n",
    "if A == 4:\n",
    "    n = pickone(3,5,7,9);\n",
    "if A == 5:\n",
    "    n = pickone(3,4,6,7);\n",
    "nn = n - 1;\n",
    "m = randnum(3,6,1,n); \n",
    "mm = m - 1; \n",
    "mmm = m+1;\n",
    "ERRS = pick(7,-10,-9,-8,-7,-6,-5,-4,-3,-2,-1,1,2,3,4,5,6,7,8,9,10);\n",
    "EQNS = [A, n, m*A, 2*m, A*n, n*B, A*(n - m), n*B + ERRS[0], A*(n - m) + ERRS[1], n*B + ERRS[2], A*(n - m) + ERRS[3], n*B + ERRS[4], A*(n - m) + ERRS[6]];\n",
    "'''"
   ]
  },
  {
   "cell_type": "code",
   "execution_count": 33,
   "id": "def19889",
   "metadata": {},
   "outputs": [
    {
     "ename": "NameError",
     "evalue": "name 'randnum' is not defined",
     "output_type": "error",
     "traceback": [
      "\u001b[0;31m---------------------------------------------------------------------------\u001b[0m",
      "\u001b[0;31mNameError\u001b[0m                                 Traceback (most recent call last)",
      "Cell \u001b[0;32mIn[33], line 1\u001b[0m\n\u001b[0;32m----> 1\u001b[0m \u001b[43mexec\u001b[49m\u001b[43m(\u001b[49m\u001b[43mt\u001b[49m\u001b[43m)\u001b[49m\n",
      "File \u001b[0;32m<string>:2\u001b[0m\n",
      "\u001b[0;31mNameError\u001b[0m: name 'randnum' is not defined"
     ]
    }
   ],
   "source": [
    "exec(t)"
   ]
  },
  {
   "cell_type": "code",
   "execution_count": 32,
   "id": "2881b0ff",
   "metadata": {},
   "outputs": [
    {
     "data": {
      "text/plain": [
       "'\\nA = randnum(3,5,1);\\nB = A*randnum(2,4,1) + randnum(-1,1,2);\\nif A == 3:\\n    n = pickone(4,5,7,8);\\nif A == 4:\\n    n = pickone(3,5,7,9);\\nif A == 5:\\n    n = pickone(3,4,6,7);\\nnn = n - 1;\\nm = randnum(3,6,1,n); \\nmm = m - 1; \\nmmm = m+1;\\nERRS = pick(7,-10,-9,-8,-7,-6,-5,-4,-3,-2,-1,1,2,3,4,5,6,7,8,9,10);\\nEQNS = [A, n, m*A, 2*m, A*n, n*B, A*(n - m), n*B + ERRS[0], A*(n - m) + ERRS[1], n*B + ERRS[2], A*(n - m) + ERRS[3], n*B + ERRS[4], A*(n - m) + ERRS[6]];\\n'"
      ]
     },
     "execution_count": 32,
     "metadata": {},
     "output_type": "execute_result"
    }
   ],
   "source": [
    "t"
   ]
  },
  {
   "cell_type": "code",
   "execution_count": null,
   "id": "78c48856",
   "metadata": {},
   "outputs": [],
   "source": [
    "if A == 3 else None;\n",
    "n = pickone(3,5,7,9) if A == 4 else None;\n",
    "n = pickone(3,4,6,7) if A == 5 else None;"
   ]
  }
 ],
 "metadata": {
  "kernelspec": {
   "display_name": "test",
   "language": "python",
   "name": "python3"
  },
  "language_info": {
   "codemirror_mode": {
    "name": "ipython",
    "version": 3
   },
   "file_extension": ".py",
   "mimetype": "text/x-python",
   "name": "python",
   "nbconvert_exporter": "python",
   "pygments_lexer": "ipython3",
   "version": "3.11.0"
  },
  "vscode": {
   "interpreter": {
    "hash": "e2f2e560af83d95db4e1da299388dd662b6eaf568a5ba3ac744a3ee60a2a9545"
   }
  }
 },
 "nbformat": 4,
 "nbformat_minor": 5
}
